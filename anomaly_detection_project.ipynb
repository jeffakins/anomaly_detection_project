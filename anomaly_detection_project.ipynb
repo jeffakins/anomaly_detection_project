{
 "cells": [
  {
   "cell_type": "markdown",
   "id": "f21423b2",
   "metadata": {},
   "source": [
    "# Anomaly Detection Project\n",
    "By Jeff Akins"
   ]
  },
  {
   "cell_type": "markdown",
   "id": "0e7bbdb2",
   "metadata": {},
   "source": [
    "### ![](https://mk0crunchmetric1ct0g.kinstacdn.com/wp-content/uploads/2019/10/Anomaly-detection-on-time-series-data-with-auto-encoders.jpg)"
   ]
  },
  {
   "cell_type": "code",
   "execution_count": 1,
   "id": "7d175127",
   "metadata": {},
   "outputs": [],
   "source": [
    "import numpy as np\n",
    "import pandas as pd\n",
    "from datetime import datetime\n",
    "\n",
    "import matplotlib.pyplot as plt\n",
    "import seaborn as sns\n",
    "\n",
    "from sklearn import metrics\n",
    "import prepare as prep"
   ]
  },
  {
   "cell_type": "code",
   "execution_count": 2,
   "id": "6870ddf3",
   "metadata": {},
   "outputs": [],
   "source": [
    "log = prep.prep_logs()"
   ]
  },
  {
   "cell_type": "code",
   "execution_count": 3,
   "id": "5f3e40ef",
   "metadata": {},
   "outputs": [
    {
     "data": {
      "text/html": [
       "<div>\n",
       "<style scoped>\n",
       "    .dataframe tbody tr th:only-of-type {\n",
       "        vertical-align: middle;\n",
       "    }\n",
       "\n",
       "    .dataframe tbody tr th {\n",
       "        vertical-align: top;\n",
       "    }\n",
       "\n",
       "    .dataframe thead th {\n",
       "        text-align: right;\n",
       "    }\n",
       "</style>\n",
       "<table border=\"1\" class=\"dataframe\">\n",
       "  <thead>\n",
       "    <tr style=\"text-align: right;\">\n",
       "      <th></th>\n",
       "      <th>path</th>\n",
       "      <th>user_id</th>\n",
       "      <th>cohort_id</th>\n",
       "      <th>ip</th>\n",
       "      <th>name</th>\n",
       "      <th>slack</th>\n",
       "      <th>start_date</th>\n",
       "      <th>end_date</th>\n",
       "      <th>created_at</th>\n",
       "      <th>updated_at</th>\n",
       "      <th>program_id</th>\n",
       "      <th>course_name</th>\n",
       "      <th>course_subdomain</th>\n",
       "      <th>hour</th>\n",
       "      <th>weekday</th>\n",
       "    </tr>\n",
       "    <tr>\n",
       "      <th>timestamp</th>\n",
       "      <th></th>\n",
       "      <th></th>\n",
       "      <th></th>\n",
       "      <th></th>\n",
       "      <th></th>\n",
       "      <th></th>\n",
       "      <th></th>\n",
       "      <th></th>\n",
       "      <th></th>\n",
       "      <th></th>\n",
       "      <th></th>\n",
       "      <th></th>\n",
       "      <th></th>\n",
       "      <th></th>\n",
       "      <th></th>\n",
       "    </tr>\n",
       "  </thead>\n",
       "  <tbody>\n",
       "    <tr>\n",
       "      <th>2018-01-26 09:55:03</th>\n",
       "      <td>/</td>\n",
       "      <td>1</td>\n",
       "      <td>8</td>\n",
       "      <td>97.105.19.61</td>\n",
       "      <td>Hampton</td>\n",
       "      <td>#hampton</td>\n",
       "      <td>2015-09-22</td>\n",
       "      <td>2016-02-06</td>\n",
       "      <td>2016-06-14 19:52:26</td>\n",
       "      <td>2016-06-14 19:52:26</td>\n",
       "      <td>1</td>\n",
       "      <td>PHP Full Stack Web Dev</td>\n",
       "      <td>php</td>\n",
       "      <td>9</td>\n",
       "      <td>Friday</td>\n",
       "    </tr>\n",
       "    <tr>\n",
       "      <th>2018-01-26 09:56:02</th>\n",
       "      <td>java-ii</td>\n",
       "      <td>1</td>\n",
       "      <td>8</td>\n",
       "      <td>97.105.19.61</td>\n",
       "      <td>Hampton</td>\n",
       "      <td>#hampton</td>\n",
       "      <td>2015-09-22</td>\n",
       "      <td>2016-02-06</td>\n",
       "      <td>2016-06-14 19:52:26</td>\n",
       "      <td>2016-06-14 19:52:26</td>\n",
       "      <td>1</td>\n",
       "      <td>PHP Full Stack Web Dev</td>\n",
       "      <td>php</td>\n",
       "      <td>9</td>\n",
       "      <td>Friday</td>\n",
       "    </tr>\n",
       "    <tr>\n",
       "      <th>2018-01-26 09:56:05</th>\n",
       "      <td>java-ii/object-oriented-programming</td>\n",
       "      <td>1</td>\n",
       "      <td>8</td>\n",
       "      <td>97.105.19.61</td>\n",
       "      <td>Hampton</td>\n",
       "      <td>#hampton</td>\n",
       "      <td>2015-09-22</td>\n",
       "      <td>2016-02-06</td>\n",
       "      <td>2016-06-14 19:52:26</td>\n",
       "      <td>2016-06-14 19:52:26</td>\n",
       "      <td>1</td>\n",
       "      <td>PHP Full Stack Web Dev</td>\n",
       "      <td>php</td>\n",
       "      <td>9</td>\n",
       "      <td>Friday</td>\n",
       "    </tr>\n",
       "    <tr>\n",
       "      <th>2018-01-26 09:56:06</th>\n",
       "      <td>slides/object_oriented_programming</td>\n",
       "      <td>1</td>\n",
       "      <td>8</td>\n",
       "      <td>97.105.19.61</td>\n",
       "      <td>Hampton</td>\n",
       "      <td>#hampton</td>\n",
       "      <td>2015-09-22</td>\n",
       "      <td>2016-02-06</td>\n",
       "      <td>2016-06-14 19:52:26</td>\n",
       "      <td>2016-06-14 19:52:26</td>\n",
       "      <td>1</td>\n",
       "      <td>PHP Full Stack Web Dev</td>\n",
       "      <td>php</td>\n",
       "      <td>9</td>\n",
       "      <td>Friday</td>\n",
       "    </tr>\n",
       "    <tr>\n",
       "      <th>2018-01-26 09:56:24</th>\n",
       "      <td>javascript-i/conditionals</td>\n",
       "      <td>2</td>\n",
       "      <td>22</td>\n",
       "      <td>97.105.19.61</td>\n",
       "      <td>Teddy</td>\n",
       "      <td>#teddy</td>\n",
       "      <td>2018-01-08</td>\n",
       "      <td>2018-05-17</td>\n",
       "      <td>2018-01-08 13:59:10</td>\n",
       "      <td>2018-01-08 13:59:10</td>\n",
       "      <td>2</td>\n",
       "      <td>Java Full Stack Web Dev</td>\n",
       "      <td>java</td>\n",
       "      <td>9</td>\n",
       "      <td>Friday</td>\n",
       "    </tr>\n",
       "  </tbody>\n",
       "</table>\n",
       "</div>"
      ],
      "text/plain": [
       "                                                    path  user_id  cohort_id  \\\n",
       "timestamp                                                                      \n",
       "2018-01-26 09:55:03                                    /        1          8   \n",
       "2018-01-26 09:56:02                              java-ii        1          8   \n",
       "2018-01-26 09:56:05  java-ii/object-oriented-programming        1          8   \n",
       "2018-01-26 09:56:06   slides/object_oriented_programming        1          8   \n",
       "2018-01-26 09:56:24            javascript-i/conditionals        2         22   \n",
       "\n",
       "                               ip     name     slack start_date   end_date  \\\n",
       "timestamp                                                                    \n",
       "2018-01-26 09:55:03  97.105.19.61  Hampton  #hampton 2015-09-22 2016-02-06   \n",
       "2018-01-26 09:56:02  97.105.19.61  Hampton  #hampton 2015-09-22 2016-02-06   \n",
       "2018-01-26 09:56:05  97.105.19.61  Hampton  #hampton 2015-09-22 2016-02-06   \n",
       "2018-01-26 09:56:06  97.105.19.61  Hampton  #hampton 2015-09-22 2016-02-06   \n",
       "2018-01-26 09:56:24  97.105.19.61    Teddy    #teddy 2018-01-08 2018-05-17   \n",
       "\n",
       "                             created_at          updated_at  program_id  \\\n",
       "timestamp                                                                 \n",
       "2018-01-26 09:55:03 2016-06-14 19:52:26 2016-06-14 19:52:26           1   \n",
       "2018-01-26 09:56:02 2016-06-14 19:52:26 2016-06-14 19:52:26           1   \n",
       "2018-01-26 09:56:05 2016-06-14 19:52:26 2016-06-14 19:52:26           1   \n",
       "2018-01-26 09:56:06 2016-06-14 19:52:26 2016-06-14 19:52:26           1   \n",
       "2018-01-26 09:56:24 2018-01-08 13:59:10 2018-01-08 13:59:10           2   \n",
       "\n",
       "                                 course_name course_subdomain  hour weekday  \n",
       "timestamp                                                                    \n",
       "2018-01-26 09:55:03   PHP Full Stack Web Dev              php     9  Friday  \n",
       "2018-01-26 09:56:02   PHP Full Stack Web Dev              php     9  Friday  \n",
       "2018-01-26 09:56:05   PHP Full Stack Web Dev              php     9  Friday  \n",
       "2018-01-26 09:56:06   PHP Full Stack Web Dev              php     9  Friday  \n",
       "2018-01-26 09:56:24  Java Full Stack Web Dev             java     9  Friday  "
      ]
     },
     "execution_count": 3,
     "metadata": {},
     "output_type": "execute_result"
    }
   ],
   "source": [
    "log.head()"
   ]
  },
  {
   "cell_type": "code",
   "execution_count": 4,
   "id": "2dbd3f7c",
   "metadata": {},
   "outputs": [
    {
     "name": "stdout",
     "output_type": "stream",
     "text": [
      "<class 'pandas.core.frame.DataFrame'>\n",
      "DatetimeIndex: 900223 entries, 2018-01-26 09:55:03 to 2021-04-21 16:44:39\n",
      "Data columns (total 15 columns):\n",
      " #   Column            Non-Null Count   Dtype         \n",
      "---  ------            --------------   -----         \n",
      " 0   path              900222 non-null  object        \n",
      " 1   user_id           900223 non-null  int64         \n",
      " 2   cohort_id         900223 non-null  int64         \n",
      " 3   ip                900223 non-null  object        \n",
      " 4   name              900223 non-null  object        \n",
      " 5   slack             900223 non-null  object        \n",
      " 6   start_date        900223 non-null  datetime64[ns]\n",
      " 7   end_date          900223 non-null  datetime64[ns]\n",
      " 8   created_at        900223 non-null  datetime64[ns]\n",
      " 9   updated_at        900223 non-null  datetime64[ns]\n",
      " 10  program_id        900223 non-null  int64         \n",
      " 11  course_name       900223 non-null  object        \n",
      " 12  course_subdomain  900223 non-null  object        \n",
      " 13  hour              900223 non-null  int64         \n",
      " 14  weekday           900223 non-null  object        \n",
      "dtypes: datetime64[ns](4), int64(4), object(7)\n",
      "memory usage: 109.9+ MB\n"
     ]
    }
   ],
   "source": [
    "log.info()"
   ]
  },
  {
   "cell_type": "code",
   "execution_count": null,
   "id": "c0dab03f",
   "metadata": {},
   "outputs": [],
   "source": [
    "log = prep.get_logs()\n",
    "log.head()"
   ]
  },
  {
   "cell_type": "code",
   "execution_count": null,
   "id": "115a9d96",
   "metadata": {},
   "outputs": [],
   "source": [
    "log.info()"
   ]
  },
  {
   "cell_type": "code",
   "execution_count": null,
   "id": "d7f49f32",
   "metadata": {
    "scrolled": true
   },
   "outputs": [],
   "source": [
    "log.program_id.value_counts()"
   ]
  },
  {
   "cell_type": "code",
   "execution_count": null,
   "id": "38d2168c",
   "metadata": {},
   "outputs": [],
   "source": [
    "course = pd.DataFrame({'id': [1, 2, 3, 4], \n",
    "                       'course_name': ['PHP Full Stack Web Dev', 'Java Full Stack Web Dev', 'Data Science', 'Front End Web Dev'],\n",
    "                       'course_subdomain': ['php', 'java', 'ds', 'fe']})\n",
    "course"
   ]
  },
  {
   "cell_type": "code",
   "execution_count": null,
   "id": "05b4ddfd",
   "metadata": {},
   "outputs": [],
   "source": [
    "log = log.merge(course, how='left', left_on='program_id', right_on='id')"
   ]
  },
  {
   "cell_type": "code",
   "execution_count": null,
   "id": "dd0a52df",
   "metadata": {},
   "outputs": [],
   "source": [
    "log = log.drop(columns=['Unnamed: 0', 'id_y', 'id_x', 'deleted_at'])"
   ]
  },
  {
   "cell_type": "code",
   "execution_count": null,
   "id": "ff196acb",
   "metadata": {},
   "outputs": [],
   "source": [
    "log.head()"
   ]
  },
  {
   "cell_type": "code",
   "execution_count": null,
   "id": "b024fc51",
   "metadata": {},
   "outputs": [],
   "source": [
    "log.info()"
   ]
  },
  {
   "cell_type": "code",
   "execution_count": null,
   "id": "3ea533bf",
   "metadata": {},
   "outputs": [],
   "source": [
    "log.start_date = log.start_date.fillna(log['date'])\n",
    "log.end_date = log.end_date.fillna(log['date'])\n",
    "log.created_at = log.created_at.fillna(log['date'])\n",
    "log.updated_at = log.updated_at.fillna(log['date'])"
   ]
  },
  {
   "cell_type": "code",
   "execution_count": null,
   "id": "932f2488",
   "metadata": {},
   "outputs": [],
   "source": [
    "log['timestamp'] = log.date + \" \" + log.time\n",
    "log.timestamp = pd.to_datetime(log.timestamp)\n",
    "log = log.set_index('timestamp')\n",
    "\n",
    "log['hour'] = log.index.hour\n",
    "log['weekday'] = log.index.day_name()"
   ]
  },
  {
   "cell_type": "code",
   "execution_count": null,
   "id": "a059a299",
   "metadata": {},
   "outputs": [],
   "source": [
    "log.start_date = pd.to_datetime(log.start_date)\n",
    "log.end_date = pd.to_datetime(log.end_date)"
   ]
  },
  {
   "cell_type": "code",
   "execution_count": null,
   "id": "bb9f434d",
   "metadata": {},
   "outputs": [],
   "source": [
    "log.created_at = pd.to_datetime(log.created_at)\n",
    "log.updated_at = pd.to_datetime(log.updated_at)"
   ]
  },
  {
   "cell_type": "code",
   "execution_count": null,
   "id": "564eb35d",
   "metadata": {},
   "outputs": [],
   "source": [
    "log = log.drop(columns=['date', 'time'])"
   ]
  },
  {
   "cell_type": "code",
   "execution_count": null,
   "id": "d7a1490a",
   "metadata": {},
   "outputs": [],
   "source": [
    "log.cohort_id = log.cohort_id.fillna(0)\n",
    "log.program_id = log.program_id.fillna(0)\n",
    "\n",
    "log.cohort_id = log.cohort_id.astype('int64')\n",
    "log.program_id = log.program_id.astype('int64')"
   ]
  },
  {
   "cell_type": "code",
   "execution_count": null,
   "id": "f601c9ad",
   "metadata": {},
   "outputs": [],
   "source": [
    "column_list = ['name', 'slack', 'course_name', 'course_subdomain']\n",
    "for col in column_list:\n",
    "    log[col] = log[col].fillna('none')"
   ]
  },
  {
   "cell_type": "code",
   "execution_count": null,
   "id": "078dd9c4",
   "metadata": {},
   "outputs": [],
   "source": [
    "log.head()"
   ]
  },
  {
   "cell_type": "code",
   "execution_count": null,
   "id": "d150de32",
   "metadata": {
    "scrolled": true
   },
   "outputs": [],
   "source": [
    "log.info()"
   ]
  },
  {
   "cell_type": "code",
   "execution_count": null,
   "id": "cad4dc93",
   "metadata": {
    "scrolled": true
   },
   "outputs": [],
   "source": [
    "log[log.start_date.isnull()]"
   ]
  },
  {
   "cell_type": "code",
   "execution_count": null,
   "id": "dbe14580",
   "metadata": {},
   "outputs": [],
   "source": [
    "plt.figure(figsize=(12, 8))\n",
    "sns.histplot(data=log,\n",
    "    x=\"hour\", hue=\"cohort_id\",\n",
    "    palette=\"ch:s=.25,rot=-.25\",)"
   ]
  },
  {
   "cell_type": "code",
   "execution_count": null,
   "id": "397a3a2a",
   "metadata": {},
   "outputs": [],
   "source": []
  },
  {
   "cell_type": "code",
   "execution_count": null,
   "id": "0322941c",
   "metadata": {},
   "outputs": [],
   "source": [
    "df[~ df.path.str.endswith('jpeg')]"
   ]
  },
  {
   "cell_type": "code",
   "execution_count": null,
   "id": "c924160e",
   "metadata": {},
   "outputs": [],
   "source": []
  }
 ],
 "metadata": {
  "kernelspec": {
   "display_name": "Python 3",
   "language": "python",
   "name": "python3"
  },
  "language_info": {
   "codemirror_mode": {
    "name": "ipython",
    "version": 3
   },
   "file_extension": ".py",
   "mimetype": "text/x-python",
   "name": "python",
   "nbconvert_exporter": "python",
   "pygments_lexer": "ipython3",
   "version": "3.8.8"
  }
 },
 "nbformat": 4,
 "nbformat_minor": 5
}
