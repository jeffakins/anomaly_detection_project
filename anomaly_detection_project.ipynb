{
 "cells": [
  {
   "cell_type": "markdown",
   "id": "f21423b2",
   "metadata": {},
   "source": [
    "# Anomaly Detection Project\n",
    "By Jeff Akins"
   ]
  },
  {
   "cell_type": "markdown",
   "id": "0e7bbdb2",
   "metadata": {},
   "source": [
    "### ![](https://mk0crunchmetric1ct0g.kinstacdn.com/wp-content/uploads/2019/10/Anomaly-detection-on-time-series-data-with-auto-encoders.jpg)"
   ]
  },
  {
   "cell_type": "markdown",
   "id": "bb18b272",
   "metadata": {},
   "source": [
    "#### Imports:"
   ]
  },
  {
   "cell_type": "code",
   "execution_count": 1,
   "id": "7d175127",
   "metadata": {},
   "outputs": [],
   "source": [
    "import numpy as np\n",
    "import pandas as pd\n",
    "from datetime import datetime\n",
    "\n",
    "import matplotlib.pyplot as plt\n",
    "import seaborn as sns\n",
    "\n",
    "from sklearn import metrics\n",
    "import prepare as prep"
   ]
  },
  {
   "cell_type": "markdown",
   "id": "d1533ec4",
   "metadata": {},
   "source": [
    "#### Data is prepped in the prepare.py file and retrived in the next line:"
   ]
  },
  {
   "cell_type": "code",
   "execution_count": 2,
   "id": "0d73984f",
   "metadata": {},
   "outputs": [],
   "source": [
    "log = prep.prep_logs()"
   ]
  },
  {
   "cell_type": "markdown",
   "id": "4cb2083b",
   "metadata": {},
   "source": [
    "#### Initial Data Exploration:"
   ]
  },
  {
   "cell_type": "code",
   "execution_count": 3,
   "id": "88ce5bb4",
   "metadata": {},
   "outputs": [
    {
     "data": {
      "text/html": [
       "<div>\n",
       "<style scoped>\n",
       "    .dataframe tbody tr th:only-of-type {\n",
       "        vertical-align: middle;\n",
       "    }\n",
       "\n",
       "    .dataframe tbody tr th {\n",
       "        vertical-align: top;\n",
       "    }\n",
       "\n",
       "    .dataframe thead th {\n",
       "        text-align: right;\n",
       "    }\n",
       "</style>\n",
       "<table border=\"1\" class=\"dataframe\">\n",
       "  <thead>\n",
       "    <tr style=\"text-align: right;\">\n",
       "      <th></th>\n",
       "      <th>path</th>\n",
       "      <th>user_id</th>\n",
       "      <th>cohort_id</th>\n",
       "      <th>ip</th>\n",
       "      <th>name</th>\n",
       "      <th>slack</th>\n",
       "      <th>start_date</th>\n",
       "      <th>end_date</th>\n",
       "      <th>created_at</th>\n",
       "      <th>updated_at</th>\n",
       "      <th>program_id</th>\n",
       "      <th>course_name</th>\n",
       "      <th>course_subdomain</th>\n",
       "      <th>hour</th>\n",
       "      <th>weekday</th>\n",
       "    </tr>\n",
       "    <tr>\n",
       "      <th>timestamp</th>\n",
       "      <th></th>\n",
       "      <th></th>\n",
       "      <th></th>\n",
       "      <th></th>\n",
       "      <th></th>\n",
       "      <th></th>\n",
       "      <th></th>\n",
       "      <th></th>\n",
       "      <th></th>\n",
       "      <th></th>\n",
       "      <th></th>\n",
       "      <th></th>\n",
       "      <th></th>\n",
       "      <th></th>\n",
       "      <th></th>\n",
       "    </tr>\n",
       "  </thead>\n",
       "  <tbody>\n",
       "    <tr>\n",
       "      <th>2018-01-26 09:55:03</th>\n",
       "      <td>/</td>\n",
       "      <td>1</td>\n",
       "      <td>8</td>\n",
       "      <td>97.105.19.61</td>\n",
       "      <td>Hampton</td>\n",
       "      <td>#hampton</td>\n",
       "      <td>2015-09-22</td>\n",
       "      <td>2016-02-06</td>\n",
       "      <td>2016-06-14 19:52:26</td>\n",
       "      <td>2016-06-14 19:52:26</td>\n",
       "      <td>1</td>\n",
       "      <td>PHP Full Stack Web Dev</td>\n",
       "      <td>php</td>\n",
       "      <td>9</td>\n",
       "      <td>Friday</td>\n",
       "    </tr>\n",
       "    <tr>\n",
       "      <th>2018-01-26 09:56:02</th>\n",
       "      <td>java-ii</td>\n",
       "      <td>1</td>\n",
       "      <td>8</td>\n",
       "      <td>97.105.19.61</td>\n",
       "      <td>Hampton</td>\n",
       "      <td>#hampton</td>\n",
       "      <td>2015-09-22</td>\n",
       "      <td>2016-02-06</td>\n",
       "      <td>2016-06-14 19:52:26</td>\n",
       "      <td>2016-06-14 19:52:26</td>\n",
       "      <td>1</td>\n",
       "      <td>PHP Full Stack Web Dev</td>\n",
       "      <td>php</td>\n",
       "      <td>9</td>\n",
       "      <td>Friday</td>\n",
       "    </tr>\n",
       "    <tr>\n",
       "      <th>2018-01-26 09:56:05</th>\n",
       "      <td>java-ii/object-oriented-programming</td>\n",
       "      <td>1</td>\n",
       "      <td>8</td>\n",
       "      <td>97.105.19.61</td>\n",
       "      <td>Hampton</td>\n",
       "      <td>#hampton</td>\n",
       "      <td>2015-09-22</td>\n",
       "      <td>2016-02-06</td>\n",
       "      <td>2016-06-14 19:52:26</td>\n",
       "      <td>2016-06-14 19:52:26</td>\n",
       "      <td>1</td>\n",
       "      <td>PHP Full Stack Web Dev</td>\n",
       "      <td>php</td>\n",
       "      <td>9</td>\n",
       "      <td>Friday</td>\n",
       "    </tr>\n",
       "    <tr>\n",
       "      <th>2018-01-26 09:56:06</th>\n",
       "      <td>slides/object_oriented_programming</td>\n",
       "      <td>1</td>\n",
       "      <td>8</td>\n",
       "      <td>97.105.19.61</td>\n",
       "      <td>Hampton</td>\n",
       "      <td>#hampton</td>\n",
       "      <td>2015-09-22</td>\n",
       "      <td>2016-02-06</td>\n",
       "      <td>2016-06-14 19:52:26</td>\n",
       "      <td>2016-06-14 19:52:26</td>\n",
       "      <td>1</td>\n",
       "      <td>PHP Full Stack Web Dev</td>\n",
       "      <td>php</td>\n",
       "      <td>9</td>\n",
       "      <td>Friday</td>\n",
       "    </tr>\n",
       "    <tr>\n",
       "      <th>2018-01-26 09:56:24</th>\n",
       "      <td>javascript-i/conditionals</td>\n",
       "      <td>2</td>\n",
       "      <td>22</td>\n",
       "      <td>97.105.19.61</td>\n",
       "      <td>Teddy</td>\n",
       "      <td>#teddy</td>\n",
       "      <td>2018-01-08</td>\n",
       "      <td>2018-05-17</td>\n",
       "      <td>2018-01-08 13:59:10</td>\n",
       "      <td>2018-01-08 13:59:10</td>\n",
       "      <td>2</td>\n",
       "      <td>Java Full Stack Web Dev</td>\n",
       "      <td>java</td>\n",
       "      <td>9</td>\n",
       "      <td>Friday</td>\n",
       "    </tr>\n",
       "  </tbody>\n",
       "</table>\n",
       "</div>"
      ],
      "text/plain": [
       "                                                    path  user_id  cohort_id  \\\n",
       "timestamp                                                                      \n",
       "2018-01-26 09:55:03                                    /        1          8   \n",
       "2018-01-26 09:56:02                              java-ii        1          8   \n",
       "2018-01-26 09:56:05  java-ii/object-oriented-programming        1          8   \n",
       "2018-01-26 09:56:06   slides/object_oriented_programming        1          8   \n",
       "2018-01-26 09:56:24            javascript-i/conditionals        2         22   \n",
       "\n",
       "                               ip     name     slack start_date   end_date  \\\n",
       "timestamp                                                                    \n",
       "2018-01-26 09:55:03  97.105.19.61  Hampton  #hampton 2015-09-22 2016-02-06   \n",
       "2018-01-26 09:56:02  97.105.19.61  Hampton  #hampton 2015-09-22 2016-02-06   \n",
       "2018-01-26 09:56:05  97.105.19.61  Hampton  #hampton 2015-09-22 2016-02-06   \n",
       "2018-01-26 09:56:06  97.105.19.61  Hampton  #hampton 2015-09-22 2016-02-06   \n",
       "2018-01-26 09:56:24  97.105.19.61    Teddy    #teddy 2018-01-08 2018-05-17   \n",
       "\n",
       "                             created_at          updated_at  program_id  \\\n",
       "timestamp                                                                 \n",
       "2018-01-26 09:55:03 2016-06-14 19:52:26 2016-06-14 19:52:26           1   \n",
       "2018-01-26 09:56:02 2016-06-14 19:52:26 2016-06-14 19:52:26           1   \n",
       "2018-01-26 09:56:05 2016-06-14 19:52:26 2016-06-14 19:52:26           1   \n",
       "2018-01-26 09:56:06 2016-06-14 19:52:26 2016-06-14 19:52:26           1   \n",
       "2018-01-26 09:56:24 2018-01-08 13:59:10 2018-01-08 13:59:10           2   \n",
       "\n",
       "                                 course_name course_subdomain  hour weekday  \n",
       "timestamp                                                                    \n",
       "2018-01-26 09:55:03   PHP Full Stack Web Dev              php     9  Friday  \n",
       "2018-01-26 09:56:02   PHP Full Stack Web Dev              php     9  Friday  \n",
       "2018-01-26 09:56:05   PHP Full Stack Web Dev              php     9  Friday  \n",
       "2018-01-26 09:56:06   PHP Full Stack Web Dev              php     9  Friday  \n",
       "2018-01-26 09:56:24  Java Full Stack Web Dev             java     9  Friday  "
      ]
     },
     "execution_count": 3,
     "metadata": {},
     "output_type": "execute_result"
    }
   ],
   "source": [
    "log.head()"
   ]
  },
  {
   "cell_type": "code",
   "execution_count": 4,
   "id": "67d30603",
   "metadata": {},
   "outputs": [
    {
     "name": "stdout",
     "output_type": "stream",
     "text": [
      "<class 'pandas.core.frame.DataFrame'>\n",
      "DatetimeIndex: 900223 entries, 2018-01-26 09:55:03 to 2021-04-21 16:44:39\n",
      "Data columns (total 15 columns):\n",
      " #   Column            Non-Null Count   Dtype         \n",
      "---  ------            --------------   -----         \n",
      " 0   path              900222 non-null  object        \n",
      " 1   user_id           900223 non-null  int64         \n",
      " 2   cohort_id         900223 non-null  int64         \n",
      " 3   ip                900223 non-null  object        \n",
      " 4   name              900223 non-null  object        \n",
      " 5   slack             900223 non-null  object        \n",
      " 6   start_date        900223 non-null  datetime64[ns]\n",
      " 7   end_date          900223 non-null  datetime64[ns]\n",
      " 8   created_at        900223 non-null  datetime64[ns]\n",
      " 9   updated_at        900223 non-null  datetime64[ns]\n",
      " 10  program_id        900223 non-null  int64         \n",
      " 11  course_name       900223 non-null  object        \n",
      " 12  course_subdomain  900223 non-null  object        \n",
      " 13  hour              900223 non-null  int64         \n",
      " 14  weekday           900223 non-null  category      \n",
      "dtypes: category(1), datetime64[ns](4), int64(4), object(6)\n",
      "memory usage: 103.9+ MB\n"
     ]
    }
   ],
   "source": [
    "log.info()"
   ]
  },
  {
   "cell_type": "code",
   "execution_count": 5,
   "id": "ec8363ad",
   "metadata": {},
   "outputs": [
    {
     "data": {
      "image/png": "[encoded data removed]",
      "text/plain": [
       "<Figure size 864x576 with 1 Axes>"
      ]
     },
     "metadata": {
      "needs_background": "light"
     },
     "output_type": "display_data"
    }
   ],
   "source": [
    "# Histogram Plot of Curriculum Access by Hour of the Day\n",
    "plt.figure(figsize=(12, 8))\n",
    "sns.histplot(data=log,\n",
    "    x=\"hour\", palette=\"ch:s=.25,rot=-.25\",)\n",
    "plt.title('Histogram Plot of Curriculum Access by Hour of the Day')\n",
    "plt.show()"
   ]
  },
  {
   "cell_type": "code",
   "execution_count": 6,
   "id": "23c9a3dc",
   "metadata": {},
   "outputs": [
    {
     "data": {
      "image/png": "[encoded data removed]",
      "text/plain": [
       "<Figure size 864x576 with 1 Axes>"
      ]
     },
     "metadata": {
      "needs_background": "light"
     },
     "output_type": "display_data"
    }
   ],
   "source": [
    "# Histogram Plot of Curriculum Access by Day of the Week\n",
    "plt.figure(figsize=(12, 8))\n",
    "sns.histplot(data=log,\n",
    "    x=\"weekday\", palette=\"ch:s=.25,rot=-.25\",)\n",
    "plt.title('Histogram Plot of Curriculum Access by Day of the Week')\n",
    "plt.show()"
   ]
  },
  {
   "cell_type": "markdown",
   "id": "4df71193",
   "metadata": {},
   "source": [
    "## Questions"
   ]
  },
  {
   "cell_type": "markdown",
   "id": "06c93be8",
   "metadata": {},
   "source": [
    "### 1. Which lesson appears to attract the most traffic consistently across cohorts (per program)?"
   ]
  },
  {
   "cell_type": "code",
   "execution_count": 48,
   "id": "aabbc16f",
   "metadata": {},
   "outputs": [
    {
     "data": {
      "text/html": [
       "<div>\n",
       "<style scoped>\n",
       "    .dataframe tbody tr th:only-of-type {\n",
       "        vertical-align: middle;\n",
       "    }\n",
       "\n",
       "    .dataframe tbody tr th {\n",
       "        vertical-align: top;\n",
       "    }\n",
       "\n",
       "    .dataframe thead th {\n",
       "        text-align: right;\n",
       "    }\n",
       "</style>\n",
       "<table border=\"1\" class=\"dataframe\">\n",
       "  <thead>\n",
       "    <tr style=\"text-align: right;\">\n",
       "      <th></th>\n",
       "      <th>path</th>\n",
       "      <th>user_id</th>\n",
       "      <th>cohort_id</th>\n",
       "      <th>ip</th>\n",
       "      <th>name</th>\n",
       "      <th>slack</th>\n",
       "      <th>start_date</th>\n",
       "      <th>end_date</th>\n",
       "      <th>created_at</th>\n",
       "      <th>updated_at</th>\n",
       "      <th>program_id</th>\n",
       "      <th>course_name</th>\n",
       "      <th>course_subdomain</th>\n",
       "      <th>hour</th>\n",
       "      <th>weekday</th>\n",
       "    </tr>\n",
       "    <tr>\n",
       "      <th>timestamp</th>\n",
       "      <th></th>\n",
       "      <th></th>\n",
       "      <th></th>\n",
       "      <th></th>\n",
       "      <th></th>\n",
       "      <th></th>\n",
       "      <th></th>\n",
       "      <th></th>\n",
       "      <th></th>\n",
       "      <th></th>\n",
       "      <th></th>\n",
       "      <th></th>\n",
       "      <th></th>\n",
       "      <th></th>\n",
       "      <th></th>\n",
       "    </tr>\n",
       "  </thead>\n",
       "  <tbody>\n",
       "    <tr>\n",
       "      <th>2018-01-26 09:55:03</th>\n",
       "      <td>/</td>\n",
       "      <td>1</td>\n",
       "      <td>8</td>\n",
       "      <td>97.105.19.61</td>\n",
       "      <td>Hampton</td>\n",
       "      <td>#hampton</td>\n",
       "      <td>2015-09-22</td>\n",
       "      <td>2016-02-06</td>\n",
       "      <td>2016-06-14 19:52:26</td>\n",
       "      <td>2016-06-14 19:52:26</td>\n",
       "      <td>1</td>\n",
       "      <td>PHP Full Stack Web Dev</td>\n",
       "      <td>php</td>\n",
       "      <td>9</td>\n",
       "      <td>Friday</td>\n",
       "    </tr>\n",
       "  </tbody>\n",
       "</table>\n",
       "</div>"
      ],
      "text/plain": [
       "                    path  user_id  cohort_id            ip     name     slack  \\\n",
       "timestamp                                                                       \n",
       "2018-01-26 09:55:03    /        1          8  97.105.19.61  Hampton  #hampton   \n",
       "\n",
       "                    start_date   end_date          created_at  \\\n",
       "timestamp                                                       \n",
       "2018-01-26 09:55:03 2015-09-22 2016-02-06 2016-06-14 19:52:26   \n",
       "\n",
       "                             updated_at  program_id             course_name  \\\n",
       "timestamp                                                                     \n",
       "2018-01-26 09:55:03 2016-06-14 19:52:26           1  PHP Full Stack Web Dev   \n",
       "\n",
       "                    course_subdomain  hour weekday  \n",
       "timestamp                                           \n",
       "2018-01-26 09:55:03              php     9  Friday  "
      ]
     },
     "execution_count": 48,
     "metadata": {},
     "output_type": "execute_result"
    }
   ],
   "source": [
    "log.head(1)"
   ]
  },
  {
   "cell_type": "code",
   "execution_count": 8,
   "id": "c670d0ee",
   "metadata": {},
   "outputs": [],
   "source": [
    "# Removing all paths that are not a lesson\n",
    "lesson = log.copy()\n",
    "lesson = lesson[lesson.path.str.endswith('jpg') == False]\n",
    "lesson = lesson[lesson.path.str.endswith('jpeg') == False]\n",
    "lesson = lesson[lesson.path.str.endswith('svg') == False]\n",
    "lesson = lesson[(lesson.path != '/') & (lesson.path != 'search/search_index.json') \n",
    "                & (lesson.path != 'toc') & (lesson.path != 'appendix')]"
   ]
  },
  {
   "cell_type": "code",
   "execution_count": 12,
   "id": "fd60e3d0",
   "metadata": {},
   "outputs": [
    {
     "data": {
      "text/html": [
       "<div>\n",
       "<style scoped>\n",
       "    .dataframe tbody tr th:only-of-type {\n",
       "        vertical-align: middle;\n",
       "    }\n",
       "\n",
       "    .dataframe tbody tr th {\n",
       "        vertical-align: top;\n",
       "    }\n",
       "\n",
       "    .dataframe thead th {\n",
       "        text-align: right;\n",
       "    }\n",
       "</style>\n",
       "<table border=\"1\" class=\"dataframe\">\n",
       "  <thead>\n",
       "    <tr style=\"text-align: right;\">\n",
       "      <th></th>\n",
       "      <th>path</th>\n",
       "    </tr>\n",
       "  </thead>\n",
       "  <tbody>\n",
       "    <tr>\n",
       "      <th>javascript-i</th>\n",
       "      <td>18983</td>\n",
       "    </tr>\n",
       "    <tr>\n",
       "      <th>java-iii</th>\n",
       "      <td>13733</td>\n",
       "    </tr>\n",
       "    <tr>\n",
       "      <th>html-css</th>\n",
       "      <td>13635</td>\n",
       "    </tr>\n",
       "    <tr>\n",
       "      <th>java-ii</th>\n",
       "      <td>12685</td>\n",
       "    </tr>\n",
       "    <tr>\n",
       "      <th>spring</th>\n",
       "      <td>12524</td>\n",
       "    </tr>\n",
       "    <tr>\n",
       "      <th>jquery</th>\n",
       "      <td>11525</td>\n",
       "    </tr>\n",
       "    <tr>\n",
       "      <th>mysql</th>\n",
       "      <td>11033</td>\n",
       "    </tr>\n",
       "    <tr>\n",
       "      <th>java-i</th>\n",
       "      <td>10865</td>\n",
       "    </tr>\n",
       "    <tr>\n",
       "      <th>javascript-ii</th>\n",
       "      <td>10730</td>\n",
       "    </tr>\n",
       "    <tr>\n",
       "      <th>javascript-i/introduction/working-with-data-types-operators-and-variables</th>\n",
       "      <td>7642</td>\n",
       "    </tr>\n",
       "    <tr>\n",
       "      <th>mysql/tables</th>\n",
       "      <td>7356</td>\n",
       "    </tr>\n",
       "    <tr>\n",
       "      <th>javascript-i/javascript-with-html</th>\n",
       "      <td>7350</td>\n",
       "    </tr>\n",
       "    <tr>\n",
       "      <th>javascript-i/functions</th>\n",
       "      <td>7348</td>\n",
       "    </tr>\n",
       "    <tr>\n",
       "      <th>html-css/elements</th>\n",
       "      <td>7074</td>\n",
       "    </tr>\n",
       "    <tr>\n",
       "      <th>mysql/databases</th>\n",
       "      <td>6940</td>\n",
       "    </tr>\n",
       "    <tr>\n",
       "      <th>java-iii/jsp-and-jstl</th>\n",
       "      <td>6876</td>\n",
       "    </tr>\n",
       "    <tr>\n",
       "      <th>javascript-i/loops</th>\n",
       "      <td>6794</td>\n",
       "    </tr>\n",
       "    <tr>\n",
       "      <th>java-iii/servlets</th>\n",
       "      <td>6776</td>\n",
       "    </tr>\n",
       "    <tr>\n",
       "      <th>html-css/css-ii/bootstrap-grid-system</th>\n",
       "      <td>6668</td>\n",
       "    </tr>\n",
       "    <tr>\n",
       "      <th>javascript-i/conditionals</th>\n",
       "      <td>6596</td>\n",
       "    </tr>\n",
       "  </tbody>\n",
       "</table>\n",
       "</div>"
      ],
      "text/plain": [
       "                                                     path\n",
       "javascript-i                                        18983\n",
       "java-iii                                            13733\n",
       "html-css                                            13635\n",
       "java-ii                                             12685\n",
       "spring                                              12524\n",
       "jquery                                              11525\n",
       "mysql                                               11033\n",
       "java-i                                              10865\n",
       "javascript-ii                                       10730\n",
       "javascript-i/introduction/working-with-data-typ...   7642\n",
       "mysql/tables                                         7356\n",
       "javascript-i/javascript-with-html                    7350\n",
       "javascript-i/functions                               7348\n",
       "html-css/elements                                    7074\n",
       "mysql/databases                                      6940\n",
       "java-iii/jsp-and-jstl                                6876\n",
       "javascript-i/loops                                   6794\n",
       "java-iii/servlets                                    6776\n",
       "html-css/css-ii/bootstrap-grid-system                6668\n",
       "javascript-i/conditionals                            6596"
      ]
     },
     "execution_count": 12,
     "metadata": {},
     "output_type": "execute_result"
    }
   ],
   "source": [
    "# List of top 20 lessons across all cohorts:\n",
    "top_lessons = pd.DataFrame(lesson.path.value_counts().head(20))\n",
    "top_lessons"
   ]
  },
  {
   "cell_type": "code",
   "execution_count": 11,
   "id": "46533559",
   "metadata": {},
   "outputs": [
    {
     "data": {
      "image/png": "[encoded data removed]",
      "text/plain": [
       "<Figure size 864x576 with 1 Axes>"
      ]
     },
     "metadata": {
      "needs_background": "light"
     },
     "output_type": "display_data"
    }
   ],
   "source": [
    "# Plot of top 20 lessons across all cohorts:\n",
    "plt.figure(figsize=(12, 8))\n",
    "sns.barplot(data=top_lessons,\n",
    "    x=\"path\", y=top_lessons.index, palette=\"ch:s=.25,rot=-.25\", )\n",
    "plt.title('Top Lessons Across All Cohorts')\n",
    "plt.show()"
   ]
  },
  {
   "cell_type": "markdown",
   "id": "de94cd4a",
   "metadata": {},
   "source": [
    "##### Top Five Lessons for Each Program"
   ]
  },
  {
   "cell_type": "code",
   "execution_count": 58,
   "id": "b5f848a0",
   "metadata": {},
   "outputs": [
    {
     "data": {
      "image/png": "[encoded data removed]",
      "text/plain": [
       "<Figure size 432x288 with 1 Axes>"
      ]
     },
     "metadata": {
      "needs_background": "light"
     },
     "output_type": "display_data"
    },
    {
     "data": {
      "text/html": [
       "<div>\n",
       "<style scoped>\n",
       "    .dataframe tbody tr th:only-of-type {\n",
       "        vertical-align: middle;\n",
       "    }\n",
       "\n",
       "    .dataframe tbody tr th {\n",
       "        vertical-align: top;\n",
       "    }\n",
       "\n",
       "    .dataframe thead th {\n",
       "        text-align: right;\n",
       "    }\n",
       "</style>\n",
       "<table border=\"1\" class=\"dataframe\">\n",
       "  <thead>\n",
       "    <tr style=\"text-align: right;\">\n",
       "      <th></th>\n",
       "      <th>path</th>\n",
       "    </tr>\n",
       "  </thead>\n",
       "  <tbody>\n",
       "    <tr>\n",
       "      <th>index.html</th>\n",
       "      <td>1011</td>\n",
       "    </tr>\n",
       "    <tr>\n",
       "      <th>javascript-i</th>\n",
       "      <td>736</td>\n",
       "    </tr>\n",
       "    <tr>\n",
       "      <th>html-css</th>\n",
       "      <td>542</td>\n",
       "    </tr>\n",
       "    <tr>\n",
       "      <th>spring</th>\n",
       "      <td>501</td>\n",
       "    </tr>\n",
       "    <tr>\n",
       "      <th>java-iii</th>\n",
       "      <td>479</td>\n",
       "    </tr>\n",
       "  </tbody>\n",
       "</table>\n",
       "</div>"
      ],
      "text/plain": [
       "              path\n",
       "index.html    1011\n",
       "javascript-i   736\n",
       "html-css       542\n",
       "spring         501\n",
       "java-iii       479"
      ]
     },
     "execution_count": 58,
     "metadata": {},
     "output_type": "execute_result"
    }
   ],
   "source": [
    "# Top lessons for PHP Web Dev\n",
    "top_course_lessons = pd.DataFrame(lesson[lesson.course_subdomain == 'php'].path.value_counts().head(5))\n",
    "plt.figure(figsize=(6, 4))\n",
    "sns.barplot(data=top_course_lessons,\n",
    "x=\"path\", y=top_course_lessons.index, palette=\"ch:s=.25,rot=-.25\", )\n",
    "plt.title('Top Lessons for PHP Full Stack Web Dev')\n",
    "plt.show()\n",
    "top_course_lessons"
   ]
  },
  {
   "cell_type": "code",
   "execution_count": 57,
   "id": "8f916102",
   "metadata": {},
   "outputs": [
    {
     "data": {
      "image/png": "[encoded data removed]",
      "text/plain": [
       "<Figure size 432x288 with 1 Axes>"
      ]
     },
     "metadata": {
      "needs_background": "light"
     },
     "output_type": "display_data"
    },
    {
     "data": {
      "text/html": [
       "<div>\n",
       "<style scoped>\n",
       "    .dataframe tbody tr th:only-of-type {\n",
       "        vertical-align: middle;\n",
       "    }\n",
       "\n",
       "    .dataframe tbody tr th {\n",
       "        vertical-align: top;\n",
       "    }\n",
       "\n",
       "    .dataframe thead th {\n",
       "        text-align: right;\n",
       "    }\n",
       "</style>\n",
       "<table border=\"1\" class=\"dataframe\">\n",
       "  <thead>\n",
       "    <tr style=\"text-align: right;\">\n",
       "      <th></th>\n",
       "      <th>path</th>\n",
       "    </tr>\n",
       "  </thead>\n",
       "  <tbody>\n",
       "    <tr>\n",
       "      <th>javascript-i</th>\n",
       "      <td>17457</td>\n",
       "    </tr>\n",
       "    <tr>\n",
       "      <th>java-iii</th>\n",
       "      <td>12683</td>\n",
       "    </tr>\n",
       "    <tr>\n",
       "      <th>html-css</th>\n",
       "      <td>12569</td>\n",
       "    </tr>\n",
       "    <tr>\n",
       "      <th>java-ii</th>\n",
       "      <td>11719</td>\n",
       "    </tr>\n",
       "    <tr>\n",
       "      <th>spring</th>\n",
       "      <td>11376</td>\n",
       "    </tr>\n",
       "  </tbody>\n",
       "</table>\n",
       "</div>"
      ],
      "text/plain": [
       "               path\n",
       "javascript-i  17457\n",
       "java-iii      12683\n",
       "html-css      12569\n",
       "java-ii       11719\n",
       "spring        11376"
      ]
     },
     "execution_count": 57,
     "metadata": {},
     "output_type": "execute_result"
    }
   ],
   "source": [
    "# Top lessons for Java Full Stack Web Dev\n",
    "top_course_lessons = pd.DataFrame(lesson[lesson.course_subdomain == 'java'].path.value_counts().head(5))\n",
    "plt.figure(figsize=(6, 4))\n",
    "sns.barplot(data=top_course_lessons,\n",
    "x=\"path\", y=top_course_lessons.index, palette=\"ch:s=.25,rot=-.25\", )\n",
    "plt.title('Top Lessons for Java Full Stack Web Dev')\n",
    "plt.show()\n",
    "top_course_lessons"
   ]
  },
  {
   "cell_type": "code",
   "execution_count": 56,
   "id": "cffb5918",
   "metadata": {},
   "outputs": [
    {
     "data": {
      "image/png": "[encoded data removed]",
      "text/plain": [
       "<Figure size 432x288 with 1 Axes>"
      ]
     },
     "metadata": {
      "needs_background": "light"
     },
     "output_type": "display_data"
    },
    {
     "data": {
      "text/html": [
       "<div>\n",
       "<style scoped>\n",
       "    .dataframe tbody tr th:only-of-type {\n",
       "        vertical-align: middle;\n",
       "    }\n",
       "\n",
       "    .dataframe tbody tr th {\n",
       "        vertical-align: top;\n",
       "    }\n",
       "\n",
       "    .dataframe thead th {\n",
       "        text-align: right;\n",
       "    }\n",
       "</style>\n",
       "<table border=\"1\" class=\"dataframe\">\n",
       "  <thead>\n",
       "    <tr style=\"text-align: right;\">\n",
       "      <th></th>\n",
       "      <th>path</th>\n",
       "    </tr>\n",
       "  </thead>\n",
       "  <tbody>\n",
       "    <tr>\n",
       "      <th>content/html-css</th>\n",
       "      <td>2</td>\n",
       "    </tr>\n",
       "    <tr>\n",
       "      <th>content/html-css/gitbook/images/favicon.ico</th>\n",
       "      <td>1</td>\n",
       "    </tr>\n",
       "    <tr>\n",
       "      <th>content/html-css/introduction.html</th>\n",
       "      <td>1</td>\n",
       "    </tr>\n",
       "  </tbody>\n",
       "</table>\n",
       "</div>"
      ],
      "text/plain": [
       "                                             path\n",
       "content/html-css                                2\n",
       "content/html-css/gitbook/images/favicon.ico     1\n",
       "content/html-css/introduction.html              1"
      ]
     },
     "execution_count": 56,
     "metadata": {},
     "output_type": "execute_result"
    }
   ],
   "source": [
    "# Top lessons for Front End Web Dev\n",
    "top_course_lessons = pd.DataFrame(lesson[lesson.course_subdomain == 'fe'].path.value_counts().head(5))\n",
    "plt.figure(figsize=(6, 4))\n",
    "sns.barplot(data=top_course_lessons,\n",
    "x=\"path\", y=top_course_lessons.index, palette=\"ch:s=.25,rot=-.25\", )\n",
    "plt.title('Top Lessons for Front End Web Dev')\n",
    "plt.show()\n",
    "top_course_lessons"
   ]
  },
  {
   "cell_type": "code",
   "execution_count": 55,
   "id": "521fe15c",
   "metadata": {},
   "outputs": [
    {
     "data": {
      "image/png": "[encoded data removed]",
      "text/plain": [
       "<Figure size 432x288 with 1 Axes>"
      ]
     },
     "metadata": {
      "needs_background": "light"
     },
     "output_type": "display_data"
    },
    {
     "data": {
      "text/html": [
       "<div>\n",
       "<style scoped>\n",
       "    .dataframe tbody tr th:only-of-type {\n",
       "        vertical-align: middle;\n",
       "    }\n",
       "\n",
       "    .dataframe tbody tr th {\n",
       "        vertical-align: top;\n",
       "    }\n",
       "\n",
       "    .dataframe thead th {\n",
       "        text-align: right;\n",
       "    }\n",
       "</style>\n",
       "<table border=\"1\" class=\"dataframe\">\n",
       "  <thead>\n",
       "    <tr style=\"text-align: right;\">\n",
       "      <th></th>\n",
       "      <th>path</th>\n",
       "    </tr>\n",
       "  </thead>\n",
       "  <tbody>\n",
       "    <tr>\n",
       "      <th>classification/overview</th>\n",
       "      <td>1785</td>\n",
       "    </tr>\n",
       "    <tr>\n",
       "      <th>1-fundamentals/1.1-intro-to-data-science</th>\n",
       "      <td>1633</td>\n",
       "    </tr>\n",
       "    <tr>\n",
       "      <th>sql/mysql-overview</th>\n",
       "      <td>1424</td>\n",
       "    </tr>\n",
       "    <tr>\n",
       "      <th>fundamentals/intro-to-data-science</th>\n",
       "      <td>1413</td>\n",
       "    </tr>\n",
       "    <tr>\n",
       "      <th>6-regression/1-overview</th>\n",
       "      <td>1124</td>\n",
       "    </tr>\n",
       "  </tbody>\n",
       "</table>\n",
       "</div>"
      ],
      "text/plain": [
       "                                          path\n",
       "classification/overview                   1785\n",
       "1-fundamentals/1.1-intro-to-data-science  1633\n",
       "sql/mysql-overview                        1424\n",
       "fundamentals/intro-to-data-science        1413\n",
       "6-regression/1-overview                   1124"
      ]
     },
     "execution_count": 55,
     "metadata": {},
     "output_type": "execute_result"
    }
   ],
   "source": [
    "# Top lessons for Data Science\n",
    "top_course_lessons = pd.DataFrame(lesson[lesson.course_subdomain == 'ds'].path.value_counts().head(5))\n",
    "plt.figure(figsize=(6, 4))\n",
    "sns.barplot(data=top_course_lessons,\n",
    "x=\"path\", y=top_course_lessons.index, palette=\"ch:s=.25,rot=-.25\", )\n",
    "plt.title('Top Lessons for Data Science')\n",
    "plt.show()\n",
    "top_course_lessons"
   ]
  },
  {
   "cell_type": "markdown",
   "id": "b18ec865",
   "metadata": {},
   "source": [
    "#### Findings:\n",
    "Java Full Stack Web Dev is by far the largest course and accesses the following courses the most:\n",
    "1. javascript-i\n",
    "2. java-iii\n",
    "3. html-css\n",
    "\n",
    "For PHP Full Stack Web Dev it was:\n",
    "1. index.html\n",
    "2. javascript-i\n",
    "3. html-css\n",
    "\n",
    "For the few Front End Web Dev students it was:\n",
    "1. content/html-css\n",
    "2. content/html-css/gitbook/images/favicon.ico\n",
    "3. content/html-css/introduction.html\n",
    "\n",
    "For Data Science it was:\n",
    "1. classification/overview\n",
    "2. 1-fundamentals/1.1-intro-to-data-science\n",
    "3. sql/mysql-overview"
   ]
  },
  {
   "cell_type": "markdown",
   "id": "2deaa469",
   "metadata": {},
   "source": [
    "### 2. Is there a cohort that referred to a lesson significantly more than other cohorts seemed to gloss over?"
   ]
  },
  {
   "cell_type": "code",
   "execution_count": 59,
   "id": "08c351d3",
   "metadata": {},
   "outputs": [
    {
     "data": {
      "text/html": [
       "<div>\n",
       "<style scoped>\n",
       "    .dataframe tbody tr th:only-of-type {\n",
       "        vertical-align: middle;\n",
       "    }\n",
       "\n",
       "    .dataframe tbody tr th {\n",
       "        vertical-align: top;\n",
       "    }\n",
       "\n",
       "    .dataframe thead th {\n",
       "        text-align: right;\n",
       "    }\n",
       "</style>\n",
       "<table border=\"1\" class=\"dataframe\">\n",
       "  <thead>\n",
       "    <tr style=\"text-align: right;\">\n",
       "      <th></th>\n",
       "      <th>path</th>\n",
       "      <th>user_id</th>\n",
       "      <th>cohort_id</th>\n",
       "      <th>ip</th>\n",
       "      <th>name</th>\n",
       "      <th>slack</th>\n",
       "      <th>start_date</th>\n",
       "      <th>end_date</th>\n",
       "      <th>created_at</th>\n",
       "      <th>updated_at</th>\n",
       "      <th>program_id</th>\n",
       "      <th>course_name</th>\n",
       "      <th>course_subdomain</th>\n",
       "      <th>hour</th>\n",
       "      <th>weekday</th>\n",
       "    </tr>\n",
       "    <tr>\n",
       "      <th>timestamp</th>\n",
       "      <th></th>\n",
       "      <th></th>\n",
       "      <th></th>\n",
       "      <th></th>\n",
       "      <th></th>\n",
       "      <th></th>\n",
       "      <th></th>\n",
       "      <th></th>\n",
       "      <th></th>\n",
       "      <th></th>\n",
       "      <th></th>\n",
       "      <th></th>\n",
       "      <th></th>\n",
       "      <th></th>\n",
       "      <th></th>\n",
       "    </tr>\n",
       "  </thead>\n",
       "  <tbody>\n",
       "    <tr>\n",
       "      <th>2018-01-26 09:56:02</th>\n",
       "      <td>java-ii</td>\n",
       "      <td>1</td>\n",
       "      <td>8</td>\n",
       "      <td>97.105.19.61</td>\n",
       "      <td>Hampton</td>\n",
       "      <td>#hampton</td>\n",
       "      <td>2015-09-22</td>\n",
       "      <td>2016-02-06</td>\n",
       "      <td>2016-06-14 19:52:26</td>\n",
       "      <td>2016-06-14 19:52:26</td>\n",
       "      <td>1</td>\n",
       "      <td>PHP Full Stack Web Dev</td>\n",
       "      <td>php</td>\n",
       "      <td>9</td>\n",
       "      <td>Friday</td>\n",
       "    </tr>\n",
       "  </tbody>\n",
       "</table>\n",
       "</div>"
      ],
      "text/plain": [
       "                        path  user_id  cohort_id            ip     name  \\\n",
       "timestamp                                                                 \n",
       "2018-01-26 09:56:02  java-ii        1          8  97.105.19.61  Hampton   \n",
       "\n",
       "                        slack start_date   end_date          created_at  \\\n",
       "timestamp                                                                 \n",
       "2018-01-26 09:56:02  #hampton 2015-09-22 2016-02-06 2016-06-14 19:52:26   \n",
       "\n",
       "                             updated_at  program_id             course_name  \\\n",
       "timestamp                                                                     \n",
       "2018-01-26 09:56:02 2016-06-14 19:52:26           1  PHP Full Stack Web Dev   \n",
       "\n",
       "                    course_subdomain  hour weekday  \n",
       "timestamp                                           \n",
       "2018-01-26 09:56:02              php     9  Friday  "
      ]
     },
     "execution_count": 59,
     "metadata": {},
     "output_type": "execute_result"
    }
   ],
   "source": [
    "lesson.head(1)"
   ]
  },
  {
   "cell_type": "code",
   "execution_count": 77,
   "id": "f8754da4",
   "metadata": {},
   "outputs": [
    {
     "data": {
      "text/plain": [
       "array(['Hampton', 'Teddy', 'Sequoia', 'Arches', 'Niagara', 'Pinnacles',\n",
       "       'Quincy', 'none', 'Kings', 'Lassen', 'Mammoth', 'Glacier',\n",
       "       'Denali', 'Joshua', 'Olympic', 'Ulysses', 'Badlands', 'Apollo',\n",
       "       'Ike', 'Voyageurs', 'Wrangell', 'Xanadu', 'Franklin', 'Yosemite',\n",
       "       'Staff', 'Zion', 'Andromeda', 'Betelgeuse', 'Ceres', 'Bayes',\n",
       "       'Deimos', 'Europa', 'Fortuna', 'Curie', 'Apex', 'Ganymede',\n",
       "       'Hyperion', 'Darden', 'Bash', 'Jupiter', 'Kalypso', 'Luna',\n",
       "       'Easley', 'Marco', 'Florence', 'Neptune', 'Oberon'], dtype=object)"
      ]
     },
     "execution_count": 77,
     "metadata": {},
     "output_type": "execute_result"
    }
   ],
   "source": [
    "cohort_keys = lesson.name.unique()\n",
    "cohort_keys"
   ]
  },
  {
   "cell_type": "code",
   "execution_count": 100,
   "id": "d01d50a1",
   "metadata": {},
   "outputs": [],
   "source": [
    "# For loop to gather the top five lessons for each cohort\n",
    "list_of_cohorts = []\n",
    "cohort_keys = lesson.name.unique()\n",
    "\n",
    "for keys in cohort_keys:\n",
    "    cohorts = pd.DataFrame(lesson[lesson.name == keys].path.value_counts().head(5))\n",
    "    list_of_cohorts.append(cohorts)"
   ]
  },
  {
   "cell_type": "code",
   "execution_count": 107,
   "id": "18f19bf1",
   "metadata": {},
   "outputs": [
    {
     "data": {
      "text/html": [
       "<div>\n",
       "<style scoped>\n",
       "    .dataframe tbody tr th:only-of-type {\n",
       "        vertical-align: middle;\n",
       "    }\n",
       "\n",
       "    .dataframe tbody tr th {\n",
       "        vertical-align: top;\n",
       "    }\n",
       "\n",
       "    .dataframe thead th {\n",
       "        text-align: right;\n",
       "    }\n",
       "</style>\n",
       "<table border=\"1\" class=\"dataframe\">\n",
       "  <thead>\n",
       "    <tr style=\"text-align: right;\">\n",
       "      <th></th>\n",
       "      <th></th>\n",
       "      <th>path</th>\n",
       "    </tr>\n",
       "    <tr>\n",
       "      <th>cohort</th>\n",
       "      <th>lesson</th>\n",
       "      <th></th>\n",
       "    </tr>\n",
       "  </thead>\n",
       "  <tbody>\n",
       "    <tr>\n",
       "      <th rowspan=\"5\" valign=\"top\">Hampton</th>\n",
       "      <th>java-iii</th>\n",
       "      <td>57</td>\n",
       "    </tr>\n",
       "    <tr>\n",
       "      <th>java-i</th>\n",
       "      <td>46</td>\n",
       "    </tr>\n",
       "    <tr>\n",
       "      <th>java-ii</th>\n",
       "      <td>46</td>\n",
       "    </tr>\n",
       "    <tr>\n",
       "      <th>spring</th>\n",
       "      <td>43</td>\n",
       "    </tr>\n",
       "    <tr>\n",
       "      <th>javascript-i</th>\n",
       "      <td>36</td>\n",
       "    </tr>\n",
       "    <tr>\n",
       "      <th rowspan=\"5\" valign=\"top\">Teddy</th>\n",
       "      <th>spring</th>\n",
       "      <td>744</td>\n",
       "    </tr>\n",
       "    <tr>\n",
       "      <th>java-iii</th>\n",
       "      <td>732</td>\n",
       "    </tr>\n",
       "    <tr>\n",
       "      <th>mysql</th>\n",
       "      <td>638</td>\n",
       "    </tr>\n",
       "    <tr>\n",
       "      <th>javascript-i</th>\n",
       "      <td>615</td>\n",
       "    </tr>\n",
       "    <tr>\n",
       "      <th>mkdocs/search_index.json</th>\n",
       "      <td>595</td>\n",
       "    </tr>\n",
       "  </tbody>\n",
       "</table>\n",
       "</div>"
      ],
      "text/plain": [
       "                                  path\n",
       "cohort  lesson                        \n",
       "Hampton java-iii                    57\n",
       "        java-i                      46\n",
       "        java-ii                     46\n",
       "        spring                      43\n",
       "        javascript-i                36\n",
       "Teddy   spring                     744\n",
       "        java-iii                   732\n",
       "        mysql                      638\n",
       "        javascript-i               615\n",
       "        mkdocs/search_index.json   595"
      ]
     },
     "execution_count": 107,
     "metadata": {},
     "output_type": "execute_result"
    }
   ],
   "source": [
    "# Dataframe with all of the cohorts top five lessons!\n",
    "top_cohort_lesson = pd.concat(list_of_cohorts, keys=cohort_keys, names=['cohort', 'lesson'])\n",
    "top_cohort_lesson.head(10)"
   ]
  },
  {
   "cell_type": "code",
   "execution_count": 152,
   "id": "98102758",
   "metadata": {},
   "outputs": [
    {
     "data": {
      "text/html": [
       "<div>\n",
       "<style scoped>\n",
       "    .dataframe tbody tr th:only-of-type {\n",
       "        vertical-align: middle;\n",
       "    }\n",
       "\n",
       "    .dataframe tbody tr th {\n",
       "        vertical-align: top;\n",
       "    }\n",
       "\n",
       "    .dataframe thead th {\n",
       "        text-align: right;\n",
       "    }\n",
       "</style>\n",
       "<table border=\"1\" class=\"dataframe\">\n",
       "  <thead>\n",
       "    <tr style=\"text-align: right;\">\n",
       "      <th></th>\n",
       "      <th>cohort</th>\n",
       "      <th>lesson</th>\n",
       "      <th>path</th>\n",
       "    </tr>\n",
       "  </thead>\n",
       "  <tbody>\n",
       "    <tr>\n",
       "      <th>0</th>\n",
       "      <td>Hampton</td>\n",
       "      <td>java-iii</td>\n",
       "      <td>57</td>\n",
       "    </tr>\n",
       "    <tr>\n",
       "      <th>1</th>\n",
       "      <td>Hampton</td>\n",
       "      <td>java-i</td>\n",
       "      <td>46</td>\n",
       "    </tr>\n",
       "    <tr>\n",
       "      <th>2</th>\n",
       "      <td>Hampton</td>\n",
       "      <td>java-ii</td>\n",
       "      <td>46</td>\n",
       "    </tr>\n",
       "    <tr>\n",
       "      <th>3</th>\n",
       "      <td>Hampton</td>\n",
       "      <td>spring</td>\n",
       "      <td>43</td>\n",
       "    </tr>\n",
       "    <tr>\n",
       "      <th>4</th>\n",
       "      <td>Hampton</td>\n",
       "      <td>javascript-i</td>\n",
       "      <td>36</td>\n",
       "    </tr>\n",
       "  </tbody>\n",
       "</table>\n",
       "</div>"
      ],
      "text/plain": [
       "    cohort        lesson  path\n",
       "0  Hampton      java-iii    57\n",
       "1  Hampton        java-i    46\n",
       "2  Hampton       java-ii    46\n",
       "3  Hampton        spring    43\n",
       "4  Hampton  javascript-i    36"
      ]
     },
     "execution_count": 152,
     "metadata": {},
     "output_type": "execute_result"
    }
   ],
   "source": [
    "tcl = top_cohort_lesson.reset_index(level=[0,1])\n",
    "tcl.head()"
   ]
  },
  {
   "cell_type": "code",
   "execution_count": null,
   "id": "710d2520",
   "metadata": {},
   "outputs": [],
   "source": [
    "\n",
    "plt.figure(figsize=(10, 200))\n",
    "sns.barplot(data=tcl, x=\"path\", y=\"cohort\", \n",
    "            hue=\"lesson\", palette=\"Paired\", )\n",
    "plt.title('Top Lessons for Data Science')\n",
    "plt.show()"
   ]
  },
  {
   "cell_type": "markdown",
   "id": "c1aad6cc",
   "metadata": {},
   "source": [
    "#### Findings:\n",
    "Darden went to the \"Stats/compare-means\" page more than other Data Science coorts\n"
   ]
  },
  {
   "cell_type": "markdown",
   "id": "225a1fe9",
   "metadata": {},
   "source": [
    "### 5. At some point in 2019, the ability for students and alumni to access both curriculums (web dev to ds, ds to web dev) should have been shut off. Do you see any evidence of that happening? Did it happen before?\n"
   ]
  },
  {
   "cell_type": "code",
   "execution_count": null,
   "id": "e5eedfed",
   "metadata": {},
   "outputs": [],
   "source": []
  },
  {
   "cell_type": "markdown",
   "id": "0f4a0d7b",
   "metadata": {},
   "source": [
    "### 6. What topics are grads continuing to reference after graduation and into their jobs (for each program)?\n"
   ]
  },
  {
   "cell_type": "code",
   "execution_count": null,
   "id": "a986e563",
   "metadata": {},
   "outputs": [],
   "source": []
  },
  {
   "cell_type": "markdown",
   "id": "254de062",
   "metadata": {},
   "source": [
    "### 7. Which lessons are least accessed?"
   ]
  },
  {
   "cell_type": "code",
   "execution_count": null,
   "id": "bec84fd4",
   "metadata": {},
   "outputs": [],
   "source": []
  }
 ],
 "metadata": {
  "kernelspec": {
   "display_name": "Python 3",
   "language": "python",
   "name": "python3"
  },
  "language_info": {
   "codemirror_mode": {
    "name": "ipython",
    "version": 3
   },
   "file_extension": ".py",
   "mimetype": "text/x-python",
   "name": "python",
   "nbconvert_exporter": "python",
   "pygments_lexer": "ipython3",
   "version": "3.8.8"
  }
 },
 "nbformat": 4,
 "nbformat_minor": 5
}
