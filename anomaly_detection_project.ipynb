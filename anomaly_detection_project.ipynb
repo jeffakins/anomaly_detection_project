{
 "cells": [
  {
   "cell_type": "markdown",
   "id": "f21423b2",
   "metadata": {},
   "source": [
    "# Anomaly Detection Project\n",
    "By Jeff Akins"
   ]
  },
  {
   "cell_type": "markdown",
   "id": "0e7bbdb2",
   "metadata": {},
   "source": [
    "### ![](https://mk0crunchmetric1ct0g.kinstacdn.com/wp-content/uploads/2019/10/Anomaly-detection-on-time-series-data-with-auto-encoders.jpg)"
   ]
  },
  {
   "cell_type": "markdown",
   "id": "436d3019",
   "metadata": {},
   "source": [
    "#### ![](https://us.123rf.com/450wm/belchonock/belchonock2103/belchonock210326388/166366806-male-detective-with-smoking-pipe-looking-through-magnifying-glass-on-beige-background.jpg?ver=6)"
   ]
  },
  {
   "cell_type": "markdown",
   "id": "2dd9dbf8",
   "metadata": {},
   "source": [
    "#### Imports:"
   ]
  },
  {
   "cell_type": "code",
   "execution_count": 1,
   "id": "7d175127",
   "metadata": {},
   "outputs": [],
   "source": [
    "import numpy as np\n",
    "import pandas as pd\n",
    "from datetime import datetime\n",
    "\n",
    "import matplotlib.pyplot as plt\n",
    "import seaborn as sns\n",
    "\n",
    "from sklearn import metrics\n",
    "import prepare as prep"
   ]
  },
  {
   "cell_type": "markdown",
   "id": "1ea3fe0e",
   "metadata": {},
   "source": [
    "#### Data is prepped in the prepare.py file and retrived in the next line:"
   ]
  },
  {
   "cell_type": "code",
   "execution_count": 2,
   "id": "edb86593",
   "metadata": {},
   "outputs": [],
   "source": [
    "log = prep.prep_logs()"
   ]
  },
  {
   "cell_type": "markdown",
   "id": "9169b4f5",
   "metadata": {},
   "source": [
    "#### Initial Data Exploration:"
   ]
  },
  {
   "cell_type": "code",
   "execution_count": 3,
   "id": "f09bd9b4",
   "metadata": {},
   "outputs": [
    {
     "data": {
      "text/html": [
       "<div>\n",
       "<style scoped>\n",
       "    .dataframe tbody tr th:only-of-type {\n",
       "        vertical-align: middle;\n",
       "    }\n",
       "\n",
       "    .dataframe tbody tr th {\n",
       "        vertical-align: top;\n",
       "    }\n",
       "\n",
       "    .dataframe thead th {\n",
       "        text-align: right;\n",
       "    }\n",
       "</style>\n",
       "<table border=\"1\" class=\"dataframe\">\n",
       "  <thead>\n",
       "    <tr style=\"text-align: right;\">\n",
       "      <th></th>\n",
       "      <th>path</th>\n",
       "      <th>user_id</th>\n",
       "      <th>cohort_id</th>\n",
       "      <th>ip</th>\n",
       "      <th>name</th>\n",
       "      <th>slack</th>\n",
       "      <th>start_date</th>\n",
       "      <th>end_date</th>\n",
       "      <th>created_at</th>\n",
       "      <th>updated_at</th>\n",
       "      <th>program_id</th>\n",
       "      <th>course_name</th>\n",
       "      <th>course_subdomain</th>\n",
       "      <th>hour</th>\n",
       "      <th>weekday</th>\n",
       "    </tr>\n",
       "    <tr>\n",
       "      <th>timestamp</th>\n",
       "      <th></th>\n",
       "      <th></th>\n",
       "      <th></th>\n",
       "      <th></th>\n",
       "      <th></th>\n",
       "      <th></th>\n",
       "      <th></th>\n",
       "      <th></th>\n",
       "      <th></th>\n",
       "      <th></th>\n",
       "      <th></th>\n",
       "      <th></th>\n",
       "      <th></th>\n",
       "      <th></th>\n",
       "      <th></th>\n",
       "    </tr>\n",
       "  </thead>\n",
       "  <tbody>\n",
       "    <tr>\n",
       "      <th>2018-01-26 09:55:03</th>\n",
       "      <td>/</td>\n",
       "      <td>1</td>\n",
       "      <td>8</td>\n",
       "      <td>97.105.19.61</td>\n",
       "      <td>Hampton</td>\n",
       "      <td>#hampton</td>\n",
       "      <td>2015-09-22</td>\n",
       "      <td>2016-02-06</td>\n",
       "      <td>2016-06-14 19:52:26</td>\n",
       "      <td>2016-06-14 19:52:26</td>\n",
       "      <td>1</td>\n",
       "      <td>PHP Full Stack Web Dev</td>\n",
       "      <td>php</td>\n",
       "      <td>9</td>\n",
       "      <td>Friday</td>\n",
       "    </tr>\n",
       "    <tr>\n",
       "      <th>2018-01-26 09:56:02</th>\n",
       "      <td>java-ii</td>\n",
       "      <td>1</td>\n",
       "      <td>8</td>\n",
       "      <td>97.105.19.61</td>\n",
       "      <td>Hampton</td>\n",
       "      <td>#hampton</td>\n",
       "      <td>2015-09-22</td>\n",
       "      <td>2016-02-06</td>\n",
       "      <td>2016-06-14 19:52:26</td>\n",
       "      <td>2016-06-14 19:52:26</td>\n",
       "      <td>1</td>\n",
       "      <td>PHP Full Stack Web Dev</td>\n",
       "      <td>php</td>\n",
       "      <td>9</td>\n",
       "      <td>Friday</td>\n",
       "    </tr>\n",
       "    <tr>\n",
       "      <th>2018-01-26 09:56:05</th>\n",
       "      <td>java-ii/object-oriented-programming</td>\n",
       "      <td>1</td>\n",
       "      <td>8</td>\n",
       "      <td>97.105.19.61</td>\n",
       "      <td>Hampton</td>\n",
       "      <td>#hampton</td>\n",
       "      <td>2015-09-22</td>\n",
       "      <td>2016-02-06</td>\n",
       "      <td>2016-06-14 19:52:26</td>\n",
       "      <td>2016-06-14 19:52:26</td>\n",
       "      <td>1</td>\n",
       "      <td>PHP Full Stack Web Dev</td>\n",
       "      <td>php</td>\n",
       "      <td>9</td>\n",
       "      <td>Friday</td>\n",
       "    </tr>\n",
       "    <tr>\n",
       "      <th>2018-01-26 09:56:06</th>\n",
       "      <td>slides/object_oriented_programming</td>\n",
       "      <td>1</td>\n",
       "      <td>8</td>\n",
       "      <td>97.105.19.61</td>\n",
       "      <td>Hampton</td>\n",
       "      <td>#hampton</td>\n",
       "      <td>2015-09-22</td>\n",
       "      <td>2016-02-06</td>\n",
       "      <td>2016-06-14 19:52:26</td>\n",
       "      <td>2016-06-14 19:52:26</td>\n",
       "      <td>1</td>\n",
       "      <td>PHP Full Stack Web Dev</td>\n",
       "      <td>php</td>\n",
       "      <td>9</td>\n",
       "      <td>Friday</td>\n",
       "    </tr>\n",
       "    <tr>\n",
       "      <th>2018-01-26 09:56:24</th>\n",
       "      <td>javascript-i/conditionals</td>\n",
       "      <td>2</td>\n",
       "      <td>22</td>\n",
       "      <td>97.105.19.61</td>\n",
       "      <td>Teddy</td>\n",
       "      <td>#teddy</td>\n",
       "      <td>2018-01-08</td>\n",
       "      <td>2018-05-17</td>\n",
       "      <td>2018-01-08 13:59:10</td>\n",
       "      <td>2018-01-08 13:59:10</td>\n",
       "      <td>2</td>\n",
       "      <td>Java Full Stack Web Dev</td>\n",
       "      <td>java</td>\n",
       "      <td>9</td>\n",
       "      <td>Friday</td>\n",
       "    </tr>\n",
       "  </tbody>\n",
       "</table>\n",
       "</div>"
      ],
      "text/plain": [
       "                                                    path  user_id  cohort_id  \\\n",
       "timestamp                                                                      \n",
       "2018-01-26 09:55:03                                    /        1          8   \n",
       "2018-01-26 09:56:02                              java-ii        1          8   \n",
       "2018-01-26 09:56:05  java-ii/object-oriented-programming        1          8   \n",
       "2018-01-26 09:56:06   slides/object_oriented_programming        1          8   \n",
       "2018-01-26 09:56:24            javascript-i/conditionals        2         22   \n",
       "\n",
       "                               ip     name     slack start_date   end_date  \\\n",
       "timestamp                                                                    \n",
       "2018-01-26 09:55:03  97.105.19.61  Hampton  #hampton 2015-09-22 2016-02-06   \n",
       "2018-01-26 09:56:02  97.105.19.61  Hampton  #hampton 2015-09-22 2016-02-06   \n",
       "2018-01-26 09:56:05  97.105.19.61  Hampton  #hampton 2015-09-22 2016-02-06   \n",
       "2018-01-26 09:56:06  97.105.19.61  Hampton  #hampton 2015-09-22 2016-02-06   \n",
       "2018-01-26 09:56:24  97.105.19.61    Teddy    #teddy 2018-01-08 2018-05-17   \n",
       "\n",
       "                             created_at          updated_at  program_id  \\\n",
       "timestamp                                                                 \n",
       "2018-01-26 09:55:03 2016-06-14 19:52:26 2016-06-14 19:52:26           1   \n",
       "2018-01-26 09:56:02 2016-06-14 19:52:26 2016-06-14 19:52:26           1   \n",
       "2018-01-26 09:56:05 2016-06-14 19:52:26 2016-06-14 19:52:26           1   \n",
       "2018-01-26 09:56:06 2016-06-14 19:52:26 2016-06-14 19:52:26           1   \n",
       "2018-01-26 09:56:24 2018-01-08 13:59:10 2018-01-08 13:59:10           2   \n",
       "\n",
       "                                 course_name course_subdomain  hour weekday  \n",
       "timestamp                                                                    \n",
       "2018-01-26 09:55:03   PHP Full Stack Web Dev              php     9  Friday  \n",
       "2018-01-26 09:56:02   PHP Full Stack Web Dev              php     9  Friday  \n",
       "2018-01-26 09:56:05   PHP Full Stack Web Dev              php     9  Friday  \n",
       "2018-01-26 09:56:06   PHP Full Stack Web Dev              php     9  Friday  \n",
       "2018-01-26 09:56:24  Java Full Stack Web Dev             java     9  Friday  "
      ]
     },
     "execution_count": 3,
     "metadata": {},
     "output_type": "execute_result"
    }
   ],
   "source": [
    "log.head()"
   ]
  },
  {
   "cell_type": "code",
   "execution_count": 4,
   "id": "2c463cc4",
   "metadata": {},
   "outputs": [
    {
     "name": "stdout",
     "output_type": "stream",
     "text": [
      "<class 'pandas.core.frame.DataFrame'>\n",
      "DatetimeIndex: 900223 entries, 2018-01-26 09:55:03 to 2021-04-21 16:44:39\n",
      "Data columns (total 15 columns):\n",
      " #   Column            Non-Null Count   Dtype         \n",
      "---  ------            --------------   -----         \n",
      " 0   path              900222 non-null  object        \n",
      " 1   user_id           900223 non-null  int64         \n",
      " 2   cohort_id         900223 non-null  int64         \n",
      " 3   ip                900223 non-null  object        \n",
      " 4   name              900223 non-null  object        \n",
      " 5   slack             900223 non-null  object        \n",
      " 6   start_date        900223 non-null  datetime64[ns]\n",
      " 7   end_date          900223 non-null  datetime64[ns]\n",
      " 8   created_at        900223 non-null  datetime64[ns]\n",
      " 9   updated_at        900223 non-null  datetime64[ns]\n",
      " 10  program_id        900223 non-null  int64         \n",
      " 11  course_name       900223 non-null  object        \n",
      " 12  course_subdomain  900223 non-null  object        \n",
      " 13  hour              900223 non-null  int64         \n",
      " 14  weekday           900223 non-null  category      \n",
      "dtypes: category(1), datetime64[ns](4), int64(4), object(6)\n",
      "memory usage: 103.9+ MB\n"
     ]
    }
   ],
   "source": [
    "log.info()"
   ]
  },
  {
   "cell_type": "code",
   "execution_count": 5,
   "id": "541057b4",
   "metadata": {},
   "outputs": [
    {
     "data": {
      "image/png": "[encoded data removed]",
      "text/plain": [
       "<Figure size 864x576 with 1 Axes>"
      ]
     },
     "metadata": {
      "needs_background": "light"
     },
     "output_type": "display_data"
    }
   ],
   "source": [
    "# Histogram Plot of Curriculum Access by Hour of the Day\n",
    "plt.figure(figsize=(12, 8))\n",
    "sns.histplot(data=log,\n",
    "    x=\"hour\", palette=\"ch:s=.25,rot=-.25\",)\n",
    "plt.title('Histogram Plot of Curriculum Access by Hour of the Day')\n",
    "plt.show()"
   ]
  },
  {
   "cell_type": "code",
   "execution_count": 6,
   "id": "e4930255",
   "metadata": {},
   "outputs": [
    {
     "data": {
      "image/png": "[encoded data removed]",
      "text/plain": [
       "<Figure size 864x576 with 1 Axes>"
      ]
     },
     "metadata": {
      "needs_background": "light"
     },
     "output_type": "display_data"
    }
   ],
   "source": [
    "# Histogram Plot of Curriculum Access by Day of the Week\n",
    "plt.figure(figsize=(12, 8))\n",
    "sns.histplot(data=log,\n",
    "    x=\"weekday\", palette=\"ch:s=.25,rot=-.25\",)\n",
    "plt.title('Histogram Plot of Curriculum Access by Day of the Week')\n",
    "plt.show()"
   ]
  },
  {
   "cell_type": "markdown",
   "id": "e255cf35",
   "metadata": {},
   "source": [
    "## Questions"
   ]
  },
  {
   "cell_type": "markdown",
   "id": "2c4fa4e1",
   "metadata": {},
   "source": [
    "### 1. Which lesson appears to attract the most traffic consistently across cohorts (per program)?"
   ]
  },
  {
   "cell_type": "code",
   "execution_count": 7,
   "id": "67cc7926",
   "metadata": {},
   "outputs": [
    {
     "data": {
      "text/html": [
       "<div>\n",
       "<style scoped>\n",
       "    .dataframe tbody tr th:only-of-type {\n",
       "        vertical-align: middle;\n",
       "    }\n",
       "\n",
       "    .dataframe tbody tr th {\n",
       "        vertical-align: top;\n",
       "    }\n",
       "\n",
       "    .dataframe thead th {\n",
       "        text-align: right;\n",
       "    }\n",
       "</style>\n",
       "<table border=\"1\" class=\"dataframe\">\n",
       "  <thead>\n",
       "    <tr style=\"text-align: right;\">\n",
       "      <th></th>\n",
       "      <th>path</th>\n",
       "      <th>user_id</th>\n",
       "      <th>cohort_id</th>\n",
       "      <th>ip</th>\n",
       "      <th>name</th>\n",
       "      <th>slack</th>\n",
       "      <th>start_date</th>\n",
       "      <th>end_date</th>\n",
       "      <th>created_at</th>\n",
       "      <th>updated_at</th>\n",
       "      <th>program_id</th>\n",
       "      <th>course_name</th>\n",
       "      <th>course_subdomain</th>\n",
       "      <th>hour</th>\n",
       "      <th>weekday</th>\n",
       "    </tr>\n",
       "    <tr>\n",
       "      <th>timestamp</th>\n",
       "      <th></th>\n",
       "      <th></th>\n",
       "      <th></th>\n",
       "      <th></th>\n",
       "      <th></th>\n",
       "      <th></th>\n",
       "      <th></th>\n",
       "      <th></th>\n",
       "      <th></th>\n",
       "      <th></th>\n",
       "      <th></th>\n",
       "      <th></th>\n",
       "      <th></th>\n",
       "      <th></th>\n",
       "      <th></th>\n",
       "    </tr>\n",
       "  </thead>\n",
       "  <tbody>\n",
       "    <tr>\n",
       "      <th>2018-01-26 09:55:03</th>\n",
       "      <td>/</td>\n",
       "      <td>1</td>\n",
       "      <td>8</td>\n",
       "      <td>97.105.19.61</td>\n",
       "      <td>Hampton</td>\n",
       "      <td>#hampton</td>\n",
       "      <td>2015-09-22</td>\n",
       "      <td>2016-02-06</td>\n",
       "      <td>2016-06-14 19:52:26</td>\n",
       "      <td>2016-06-14 19:52:26</td>\n",
       "      <td>1</td>\n",
       "      <td>PHP Full Stack Web Dev</td>\n",
       "      <td>php</td>\n",
       "      <td>9</td>\n",
       "      <td>Friday</td>\n",
       "    </tr>\n",
       "  </tbody>\n",
       "</table>\n",
       "</div>"
      ],
      "text/plain": [
       "                    path  user_id  cohort_id            ip     name     slack  \\\n",
       "timestamp                                                                       \n",
       "2018-01-26 09:55:03    /        1          8  97.105.19.61  Hampton  #hampton   \n",
       "\n",
       "                    start_date   end_date          created_at  \\\n",
       "timestamp                                                       \n",
       "2018-01-26 09:55:03 2015-09-22 2016-02-06 2016-06-14 19:52:26   \n",
       "\n",
       "                             updated_at  program_id             course_name  \\\n",
       "timestamp                                                                     \n",
       "2018-01-26 09:55:03 2016-06-14 19:52:26           1  PHP Full Stack Web Dev   \n",
       "\n",
       "                    course_subdomain  hour weekday  \n",
       "timestamp                                           \n",
       "2018-01-26 09:55:03              php     9  Friday  "
      ]
     },
     "execution_count": 7,
     "metadata": {},
     "output_type": "execute_result"
    }
   ],
   "source": [
    "log.head(1)"
   ]
  },
  {
   "cell_type": "code",
   "execution_count": 8,
   "id": "7a383290",
   "metadata": {},
   "outputs": [],
   "source": [
    "# Removing all paths that are not a lesson\n",
    "lesson = log.copy()\n",
    "lesson = lesson[lesson.path.str.endswith('jpg') == False]\n",
    "lesson = lesson[lesson.path.str.endswith('jpeg') == False]\n",
    "lesson = lesson[lesson.path.str.endswith('svg') == False]\n",
    "lesson = lesson[(lesson.path != '/') & (lesson.path != 'search/search_index.json') \n",
    "                & (lesson.path != 'toc') & (lesson.path != 'appendix')]"
   ]
  },
  {
   "cell_type": "code",
   "execution_count": 9,
   "id": "af38e010",
   "metadata": {},
   "outputs": [
    {
     "data": {
      "text/html": [
       "<div>\n",
       "<style scoped>\n",
       "    .dataframe tbody tr th:only-of-type {\n",
       "        vertical-align: middle;\n",
       "    }\n",
       "\n",
       "    .dataframe tbody tr th {\n",
       "        vertical-align: top;\n",
       "    }\n",
       "\n",
       "    .dataframe thead th {\n",
       "        text-align: right;\n",
       "    }\n",
       "</style>\n",
       "<table border=\"1\" class=\"dataframe\">\n",
       "  <thead>\n",
       "    <tr style=\"text-align: right;\">\n",
       "      <th></th>\n",
       "      <th>path</th>\n",
       "    </tr>\n",
       "  </thead>\n",
       "  <tbody>\n",
       "    <tr>\n",
       "      <th>javascript-i</th>\n",
       "      <td>18983</td>\n",
       "    </tr>\n",
       "    <tr>\n",
       "      <th>java-iii</th>\n",
       "      <td>13733</td>\n",
       "    </tr>\n",
       "    <tr>\n",
       "      <th>html-css</th>\n",
       "      <td>13635</td>\n",
       "    </tr>\n",
       "    <tr>\n",
       "      <th>java-ii</th>\n",
       "      <td>12685</td>\n",
       "    </tr>\n",
       "    <tr>\n",
       "      <th>spring</th>\n",
       "      <td>12524</td>\n",
       "    </tr>\n",
       "    <tr>\n",
       "      <th>jquery</th>\n",
       "      <td>11525</td>\n",
       "    </tr>\n",
       "    <tr>\n",
       "      <th>mysql</th>\n",
       "      <td>11033</td>\n",
       "    </tr>\n",
       "    <tr>\n",
       "      <th>java-i</th>\n",
       "      <td>10865</td>\n",
       "    </tr>\n",
       "    <tr>\n",
       "      <th>javascript-ii</th>\n",
       "      <td>10730</td>\n",
       "    </tr>\n",
       "    <tr>\n",
       "      <th>javascript-i/introduction/working-with-data-types-operators-and-variables</th>\n",
       "      <td>7642</td>\n",
       "    </tr>\n",
       "    <tr>\n",
       "      <th>mysql/tables</th>\n",
       "      <td>7356</td>\n",
       "    </tr>\n",
       "    <tr>\n",
       "      <th>javascript-i/javascript-with-html</th>\n",
       "      <td>7350</td>\n",
       "    </tr>\n",
       "    <tr>\n",
       "      <th>javascript-i/functions</th>\n",
       "      <td>7348</td>\n",
       "    </tr>\n",
       "    <tr>\n",
       "      <th>html-css/elements</th>\n",
       "      <td>7074</td>\n",
       "    </tr>\n",
       "    <tr>\n",
       "      <th>mysql/databases</th>\n",
       "      <td>6940</td>\n",
       "    </tr>\n",
       "    <tr>\n",
       "      <th>java-iii/jsp-and-jstl</th>\n",
       "      <td>6876</td>\n",
       "    </tr>\n",
       "    <tr>\n",
       "      <th>javascript-i/loops</th>\n",
       "      <td>6794</td>\n",
       "    </tr>\n",
       "    <tr>\n",
       "      <th>java-iii/servlets</th>\n",
       "      <td>6776</td>\n",
       "    </tr>\n",
       "    <tr>\n",
       "      <th>html-css/css-ii/bootstrap-grid-system</th>\n",
       "      <td>6668</td>\n",
       "    </tr>\n",
       "    <tr>\n",
       "      <th>javascript-i/conditionals</th>\n",
       "      <td>6596</td>\n",
       "    </tr>\n",
       "  </tbody>\n",
       "</table>\n",
       "</div>"
      ],
      "text/plain": [
       "                                                     path\n",
       "javascript-i                                        18983\n",
       "java-iii                                            13733\n",
       "html-css                                            13635\n",
       "java-ii                                             12685\n",
       "spring                                              12524\n",
       "jquery                                              11525\n",
       "mysql                                               11033\n",
       "java-i                                              10865\n",
       "javascript-ii                                       10730\n",
       "javascript-i/introduction/working-with-data-typ...   7642\n",
       "mysql/tables                                         7356\n",
       "javascript-i/javascript-with-html                    7350\n",
       "javascript-i/functions                               7348\n",
       "html-css/elements                                    7074\n",
       "mysql/databases                                      6940\n",
       "java-iii/jsp-and-jstl                                6876\n",
       "javascript-i/loops                                   6794\n",
       "java-iii/servlets                                    6776\n",
       "html-css/css-ii/bootstrap-grid-system                6668\n",
       "javascript-i/conditionals                            6596"
      ]
     },
     "execution_count": 9,
     "metadata": {},
     "output_type": "execute_result"
    }
   ],
   "source": [
    "# List of top 20 lessons across all cohorts:\n",
    "top_lessons = pd.DataFrame(lesson.path.value_counts().head(20))\n",
    "top_lessons"
   ]
  },
  {
   "cell_type": "code",
   "execution_count": 106,
   "id": "22de732e",
   "metadata": {},
   "outputs": [
    {
     "data": {
      "image/png": "[encoded data removed]",
      "text/plain": [
       "<Figure size 864x576 with 1 Axes>"
      ]
     },
     "metadata": {
      "needs_background": "light"
     },
     "output_type": "display_data"
    }
   ],
   "source": [
    "# Plot of top 20 lessons across all cohorts:\n",
    "plt.figure(figsize=(12, 8))\n",
    "sns.barplot(data=top_lessons,\n",
    "    x=\"path\", y=top_lessons.index, palette=\"ch:s=.25,rot=-.25\", )\n",
    "plt.title('Top 20 Lessons Across All Cohorts')\n",
    "plt.show()"
   ]
  },
  {
   "cell_type": "code",
   "execution_count": 111,
   "id": "a64ef509",
   "metadata": {},
   "outputs": [
    {
     "data": {
      "image/png": "[encoded data removed]",
      "text/plain": [
       "<Figure size 432x288 with 1 Axes>"
      ]
     },
     "metadata": {
      "needs_background": "light"
     },
     "output_type": "display_data"
    },
    {
     "data": {
      "text/html": [
       "<div>\n",
       "<style scoped>\n",
       "    .dataframe tbody tr th:only-of-type {\n",
       "        vertical-align: middle;\n",
       "    }\n",
       "\n",
       "    .dataframe tbody tr th {\n",
       "        vertical-align: top;\n",
       "    }\n",
       "\n",
       "    .dataframe thead th {\n",
       "        text-align: right;\n",
       "    }\n",
       "</style>\n",
       "<table border=\"1\" class=\"dataframe\">\n",
       "  <thead>\n",
       "    <tr style=\"text-align: right;\">\n",
       "      <th></th>\n",
       "      <th>path</th>\n",
       "    </tr>\n",
       "  </thead>\n",
       "  <tbody>\n",
       "    <tr>\n",
       "      <th>javascript-i</th>\n",
       "      <td>18983</td>\n",
       "    </tr>\n",
       "    <tr>\n",
       "      <th>java-iii</th>\n",
       "      <td>13733</td>\n",
       "    </tr>\n",
       "    <tr>\n",
       "      <th>html-css</th>\n",
       "      <td>13635</td>\n",
       "    </tr>\n",
       "    <tr>\n",
       "      <th>java-ii</th>\n",
       "      <td>12685</td>\n",
       "    </tr>\n",
       "    <tr>\n",
       "      <th>spring</th>\n",
       "      <td>12524</td>\n",
       "    </tr>\n",
       "  </tbody>\n",
       "</table>\n",
       "</div>"
      ],
      "text/plain": [
       "               path\n",
       "javascript-i  18983\n",
       "java-iii      13733\n",
       "html-css      13635\n",
       "java-ii       12685\n",
       "spring        12524"
      ]
     },
     "execution_count": 111,
     "metadata": {},
     "output_type": "execute_result"
    }
   ],
   "source": [
    "# Top 5 lessons for all Groups\n",
    "top_course_lessons = pd.DataFrame(lesson.path.value_counts().head(5))\n",
    "plt.figure(figsize=(6, 4))\n",
    "sns.barplot(data=top_course_lessons,\n",
    "x=\"path\", y=top_course_lessons.index, palette=\"ch:s=.25,rot=-.25\", )\n",
    "plt.title('Top 5 Lessons Across all Groups')\n",
    "plt.xlabel('Access Count')\n",
    "#plt.ylabel('Lesson')\n",
    "plt.show()\n",
    "top_course_lessons"
   ]
  },
  {
   "cell_type": "markdown",
   "id": "5dba6fd8",
   "metadata": {},
   "source": [
    "##### Top Five Lessons for Each Program"
   ]
  },
  {
   "cell_type": "code",
   "execution_count": 11,
   "id": "01935a95",
   "metadata": {},
   "outputs": [
    {
     "data": {
      "image/png": "[encoded data removed]",
      "text/plain": [
       "<Figure size 432x288 with 1 Axes>"
      ]
     },
     "metadata": {
      "needs_background": "light"
     },
     "output_type": "display_data"
    },
    {
     "data": {
      "text/html": [
       "<div>\n",
       "<style scoped>\n",
       "    .dataframe tbody tr th:only-of-type {\n",
       "        vertical-align: middle;\n",
       "    }\n",
       "\n",
       "    .dataframe tbody tr th {\n",
       "        vertical-align: top;\n",
       "    }\n",
       "\n",
       "    .dataframe thead th {\n",
       "        text-align: right;\n",
       "    }\n",
       "</style>\n",
       "<table border=\"1\" class=\"dataframe\">\n",
       "  <thead>\n",
       "    <tr style=\"text-align: right;\">\n",
       "      <th></th>\n",
       "      <th>path</th>\n",
       "    </tr>\n",
       "  </thead>\n",
       "  <tbody>\n",
       "    <tr>\n",
       "      <th>index.html</th>\n",
       "      <td>1011</td>\n",
       "    </tr>\n",
       "    <tr>\n",
       "      <th>javascript-i</th>\n",
       "      <td>736</td>\n",
       "    </tr>\n",
       "    <tr>\n",
       "      <th>html-css</th>\n",
       "      <td>542</td>\n",
       "    </tr>\n",
       "    <tr>\n",
       "      <th>spring</th>\n",
       "      <td>501</td>\n",
       "    </tr>\n",
       "    <tr>\n",
       "      <th>java-iii</th>\n",
       "      <td>479</td>\n",
       "    </tr>\n",
       "  </tbody>\n",
       "</table>\n",
       "</div>"
      ],
      "text/plain": [
       "              path\n",
       "index.html    1011\n",
       "javascript-i   736\n",
       "html-css       542\n",
       "spring         501\n",
       "java-iii       479"
      ]
     },
     "execution_count": 11,
     "metadata": {},
     "output_type": "execute_result"
    }
   ],
   "source": [
    "# Top lessons for PHP Web Dev\n",
    "top_course_lessons = pd.DataFrame(lesson[lesson.course_subdomain == 'php'].path.value_counts().head(5))\n",
    "plt.figure(figsize=(6, 4))\n",
    "sns.barplot(data=top_course_lessons,\n",
    "x=\"path\", y=top_course_lessons.index, palette=\"ch:s=.25,rot=-.25\", )\n",
    "plt.title('Top Lessons for PHP Full Stack Web Dev')\n",
    "plt.show()\n",
    "top_course_lessons"
   ]
  },
  {
   "cell_type": "code",
   "execution_count": 12,
   "id": "115f9b41",
   "metadata": {},
   "outputs": [
    {
     "data": {
      "image/png": "[encoded data removed]",
      "text/plain": [
       "<Figure size 432x288 with 1 Axes>"
      ]
     },
     "metadata": {
      "needs_background": "light"
     },
     "output_type": "display_data"
    },
    {
     "data": {
      "text/html": [
       "<div>\n",
       "<style scoped>\n",
       "    .dataframe tbody tr th:only-of-type {\n",
       "        vertical-align: middle;\n",
       "    }\n",
       "\n",
       "    .dataframe tbody tr th {\n",
       "        vertical-align: top;\n",
       "    }\n",
       "\n",
       "    .dataframe thead th {\n",
       "        text-align: right;\n",
       "    }\n",
       "</style>\n",
       "<table border=\"1\" class=\"dataframe\">\n",
       "  <thead>\n",
       "    <tr style=\"text-align: right;\">\n",
       "      <th></th>\n",
       "      <th>path</th>\n",
       "    </tr>\n",
       "  </thead>\n",
       "  <tbody>\n",
       "    <tr>\n",
       "      <th>javascript-i</th>\n",
       "      <td>17457</td>\n",
       "    </tr>\n",
       "    <tr>\n",
       "      <th>java-iii</th>\n",
       "      <td>12683</td>\n",
       "    </tr>\n",
       "    <tr>\n",
       "      <th>html-css</th>\n",
       "      <td>12569</td>\n",
       "    </tr>\n",
       "    <tr>\n",
       "      <th>java-ii</th>\n",
       "      <td>11719</td>\n",
       "    </tr>\n",
       "    <tr>\n",
       "      <th>spring</th>\n",
       "      <td>11376</td>\n",
       "    </tr>\n",
       "  </tbody>\n",
       "</table>\n",
       "</div>"
      ],
      "text/plain": [
       "               path\n",
       "javascript-i  17457\n",
       "java-iii      12683\n",
       "html-css      12569\n",
       "java-ii       11719\n",
       "spring        11376"
      ]
     },
     "execution_count": 12,
     "metadata": {},
     "output_type": "execute_result"
    }
   ],
   "source": [
    "# Top lessons for Java Full Stack Web Dev\n",
    "top_course_lessons = pd.DataFrame(lesson[lesson.course_subdomain == 'java'].path.value_counts().head(5))\n",
    "plt.figure(figsize=(6, 4))\n",
    "sns.barplot(data=top_course_lessons,\n",
    "x=\"path\", y=top_course_lessons.index, palette=\"ch:s=.25,rot=-.25\", )\n",
    "plt.title('Top Lessons for Java Full Stack Web Dev')\n",
    "plt.show()\n",
    "top_course_lessons"
   ]
  },
  {
   "cell_type": "code",
   "execution_count": 13,
   "id": "949d2ab7",
   "metadata": {},
   "outputs": [
    {
     "data": {
      "image/png": "[encoded data removed]",
      "text/plain": [
       "<Figure size 432x288 with 1 Axes>"
      ]
     },
     "metadata": {
      "needs_background": "light"
     },
     "output_type": "display_data"
    },
    {
     "data": {
      "text/html": [
       "<div>\n",
       "<style scoped>\n",
       "    .dataframe tbody tr th:only-of-type {\n",
       "        vertical-align: middle;\n",
       "    }\n",
       "\n",
       "    .dataframe tbody tr th {\n",
       "        vertical-align: top;\n",
       "    }\n",
       "\n",
       "    .dataframe thead th {\n",
       "        text-align: right;\n",
       "    }\n",
       "</style>\n",
       "<table border=\"1\" class=\"dataframe\">\n",
       "  <thead>\n",
       "    <tr style=\"text-align: right;\">\n",
       "      <th></th>\n",
       "      <th>path</th>\n",
       "    </tr>\n",
       "  </thead>\n",
       "  <tbody>\n",
       "    <tr>\n",
       "      <th>content/html-css</th>\n",
       "      <td>2</td>\n",
       "    </tr>\n",
       "    <tr>\n",
       "      <th>content/html-css/gitbook/images/favicon.ico</th>\n",
       "      <td>1</td>\n",
       "    </tr>\n",
       "    <tr>\n",
       "      <th>content/html-css/introduction.html</th>\n",
       "      <td>1</td>\n",
       "    </tr>\n",
       "  </tbody>\n",
       "</table>\n",
       "</div>"
      ],
      "text/plain": [
       "                                             path\n",
       "content/html-css                                2\n",
       "content/html-css/gitbook/images/favicon.ico     1\n",
       "content/html-css/introduction.html              1"
      ]
     },
     "execution_count": 13,
     "metadata": {},
     "output_type": "execute_result"
    }
   ],
   "source": [
    "# Top lessons for Front End Web Dev\n",
    "top_course_lessons = pd.DataFrame(lesson[lesson.course_subdomain == 'fe'].path.value_counts().head(5))\n",
    "plt.figure(figsize=(6, 4))\n",
    "sns.barplot(data=top_course_lessons,\n",
    "x=\"path\", y=top_course_lessons.index, palette=\"ch:s=.25,rot=-.25\", )\n",
    "plt.title('Top Lessons for Front End Web Dev')\n",
    "plt.show()\n",
    "top_course_lessons"
   ]
  },
  {
   "cell_type": "code",
   "execution_count": 14,
   "id": "ba526092",
   "metadata": {},
   "outputs": [
    {
     "data": {
      "image/png": "[encoded data removed]",
      "text/plain": [
       "<Figure size 432x288 with 1 Axes>"
      ]
     },
     "metadata": {
      "needs_background": "light"
     },
     "output_type": "display_data"
    },
    {
     "data": {
      "text/html": [
       "<div>\n",
       "<style scoped>\n",
       "    .dataframe tbody tr th:only-of-type {\n",
       "        vertical-align: middle;\n",
       "    }\n",
       "\n",
       "    .dataframe tbody tr th {\n",
       "        vertical-align: top;\n",
       "    }\n",
       "\n",
       "    .dataframe thead th {\n",
       "        text-align: right;\n",
       "    }\n",
       "</style>\n",
       "<table border=\"1\" class=\"dataframe\">\n",
       "  <thead>\n",
       "    <tr style=\"text-align: right;\">\n",
       "      <th></th>\n",
       "      <th>path</th>\n",
       "    </tr>\n",
       "  </thead>\n",
       "  <tbody>\n",
       "    <tr>\n",
       "      <th>classification/overview</th>\n",
       "      <td>1785</td>\n",
       "    </tr>\n",
       "    <tr>\n",
       "      <th>1-fundamentals/1.1-intro-to-data-science</th>\n",
       "      <td>1633</td>\n",
       "    </tr>\n",
       "    <tr>\n",
       "      <th>sql/mysql-overview</th>\n",
       "      <td>1424</td>\n",
       "    </tr>\n",
       "    <tr>\n",
       "      <th>fundamentals/intro-to-data-science</th>\n",
       "      <td>1413</td>\n",
       "    </tr>\n",
       "    <tr>\n",
       "      <th>6-regression/1-overview</th>\n",
       "      <td>1124</td>\n",
       "    </tr>\n",
       "  </tbody>\n",
       "</table>\n",
       "</div>"
      ],
      "text/plain": [
       "                                          path\n",
       "classification/overview                   1785\n",
       "1-fundamentals/1.1-intro-to-data-science  1633\n",
       "sql/mysql-overview                        1424\n",
       "fundamentals/intro-to-data-science        1413\n",
       "6-regression/1-overview                   1124"
      ]
     },
     "execution_count": 14,
     "metadata": {},
     "output_type": "execute_result"
    }
   ],
   "source": [
    "# Top lessons for Data Science\n",
    "top_course_lessons = pd.DataFrame(lesson[lesson.course_subdomain == 'ds'].path.value_counts().head(5))\n",
    "plt.figure(figsize=(6, 4))\n",
    "sns.barplot(data=top_course_lessons,\n",
    "x=\"path\", y=top_course_lessons.index, palette=\"ch:s=.25,rot=-.25\", )\n",
    "plt.title('Top Lessons for Data Science')\n",
    "plt.show()\n",
    "top_course_lessons"
   ]
  },
  {
   "cell_type": "code",
   "execution_count": 109,
   "id": "7e34aaab",
   "metadata": {},
   "outputs": [
    {
     "data": {
      "image/png": "[encoded data removed]",
      "text/plain": [
       "<Figure size 432x288 with 1 Axes>"
      ]
     },
     "metadata": {
      "needs_background": "light"
     },
     "output_type": "display_data"
    },
    {
     "data": {
      "text/html": [
       "<div>\n",
       "<style scoped>\n",
       "    .dataframe tbody tr th:only-of-type {\n",
       "        vertical-align: middle;\n",
       "    }\n",
       "\n",
       "    .dataframe tbody tr th {\n",
       "        vertical-align: top;\n",
       "    }\n",
       "\n",
       "    .dataframe thead th {\n",
       "        text-align: right;\n",
       "    }\n",
       "</style>\n",
       "<table border=\"1\" class=\"dataframe\">\n",
       "  <thead>\n",
       "    <tr style=\"text-align: right;\">\n",
       "      <th></th>\n",
       "      <th>path</th>\n",
       "    </tr>\n",
       "  </thead>\n",
       "  <tbody>\n",
       "    <tr>\n",
       "      <th>javascript-i</th>\n",
       "      <td>18973</td>\n",
       "    </tr>\n",
       "    <tr>\n",
       "      <th>java-iii</th>\n",
       "      <td>13729</td>\n",
       "    </tr>\n",
       "    <tr>\n",
       "      <th>html-css</th>\n",
       "      <td>13619</td>\n",
       "    </tr>\n",
       "    <tr>\n",
       "      <th>java-ii</th>\n",
       "      <td>12681</td>\n",
       "    </tr>\n",
       "    <tr>\n",
       "      <th>spring</th>\n",
       "      <td>12518</td>\n",
       "    </tr>\n",
       "  </tbody>\n",
       "</table>\n",
       "</div>"
      ],
      "text/plain": [
       "               path\n",
       "javascript-i  18973\n",
       "java-iii      13729\n",
       "html-css      13619\n",
       "java-ii       12681\n",
       "spring        12518"
      ]
     },
     "execution_count": 109,
     "metadata": {},
     "output_type": "execute_result"
    }
   ],
   "source": [
    "# Top lessons for all Web Dev\n",
    "top_course_lessons = pd.DataFrame(lesson[lesson.course_subdomain != 'ds'].path.value_counts().head(5))\n",
    "plt.figure(figsize=(6, 4))\n",
    "sns.barplot(data=top_course_lessons,\n",
    "x=\"path\", y=top_course_lessons.index, palette=\"ch:s=.25,rot=-.25\", )\n",
    "plt.title('Top Lessons for all of Web Dev')\n",
    "plt.xlabel('Access Count')\n",
    "plt.ylabel('Lesson')\n",
    "plt.show()\n",
    "top_course_lessons"
   ]
  },
  {
   "cell_type": "markdown",
   "id": "d17560fe",
   "metadata": {},
   "source": [
    "#### Findings:\n",
    "Java Full Stack Web Dev is by far the largest course and accesses the following courses the most:\n",
    "1. javascript-i\n",
    "2. java-iii\n",
    "3. html-css\n",
    "\n",
    "For PHP Full Stack Web Dev it was:\n",
    "1. index.html\n",
    "2. javascript-i\n",
    "3. html-css\n",
    "\n",
    "For the few Front End Web Dev students it was:\n",
    "1. content/html-css\n",
    "2. content/html-css/gitbook/images/favicon.ico\n",
    "3. content/html-css/introduction.html\n",
    "\n",
    "For Data Science it was:\n",
    "1. classification/overview\n",
    "2. 1-fundamentals/1.1-intro-to-data-science\n",
    "3. sql/mysql-overview"
   ]
  },
  {
   "cell_type": "markdown",
   "id": "9ee55dac",
   "metadata": {},
   "source": [
    "### 2. Is there a cohort that referred to a lesson significantly more than other cohorts seemed to gloss over?"
   ]
  },
  {
   "cell_type": "code",
   "execution_count": 15,
   "id": "be6009d0",
   "metadata": {},
   "outputs": [
    {
     "data": {
      "text/html": [
       "<div>\n",
       "<style scoped>\n",
       "    .dataframe tbody tr th:only-of-type {\n",
       "        vertical-align: middle;\n",
       "    }\n",
       "\n",
       "    .dataframe tbody tr th {\n",
       "        vertical-align: top;\n",
       "    }\n",
       "\n",
       "    .dataframe thead th {\n",
       "        text-align: right;\n",
       "    }\n",
       "</style>\n",
       "<table border=\"1\" class=\"dataframe\">\n",
       "  <thead>\n",
       "    <tr style=\"text-align: right;\">\n",
       "      <th></th>\n",
       "      <th>path</th>\n",
       "      <th>user_id</th>\n",
       "      <th>cohort_id</th>\n",
       "      <th>ip</th>\n",
       "      <th>name</th>\n",
       "      <th>slack</th>\n",
       "      <th>start_date</th>\n",
       "      <th>end_date</th>\n",
       "      <th>created_at</th>\n",
       "      <th>updated_at</th>\n",
       "      <th>program_id</th>\n",
       "      <th>course_name</th>\n",
       "      <th>course_subdomain</th>\n",
       "      <th>hour</th>\n",
       "      <th>weekday</th>\n",
       "    </tr>\n",
       "    <tr>\n",
       "      <th>timestamp</th>\n",
       "      <th></th>\n",
       "      <th></th>\n",
       "      <th></th>\n",
       "      <th></th>\n",
       "      <th></th>\n",
       "      <th></th>\n",
       "      <th></th>\n",
       "      <th></th>\n",
       "      <th></th>\n",
       "      <th></th>\n",
       "      <th></th>\n",
       "      <th></th>\n",
       "      <th></th>\n",
       "      <th></th>\n",
       "      <th></th>\n",
       "    </tr>\n",
       "  </thead>\n",
       "  <tbody>\n",
       "    <tr>\n",
       "      <th>2018-01-26 09:56:02</th>\n",
       "      <td>java-ii</td>\n",
       "      <td>1</td>\n",
       "      <td>8</td>\n",
       "      <td>97.105.19.61</td>\n",
       "      <td>Hampton</td>\n",
       "      <td>#hampton</td>\n",
       "      <td>2015-09-22</td>\n",
       "      <td>2016-02-06</td>\n",
       "      <td>2016-06-14 19:52:26</td>\n",
       "      <td>2016-06-14 19:52:26</td>\n",
       "      <td>1</td>\n",
       "      <td>PHP Full Stack Web Dev</td>\n",
       "      <td>php</td>\n",
       "      <td>9</td>\n",
       "      <td>Friday</td>\n",
       "    </tr>\n",
       "  </tbody>\n",
       "</table>\n",
       "</div>"
      ],
      "text/plain": [
       "                        path  user_id  cohort_id            ip     name  \\\n",
       "timestamp                                                                 \n",
       "2018-01-26 09:56:02  java-ii        1          8  97.105.19.61  Hampton   \n",
       "\n",
       "                        slack start_date   end_date          created_at  \\\n",
       "timestamp                                                                 \n",
       "2018-01-26 09:56:02  #hampton 2015-09-22 2016-02-06 2016-06-14 19:52:26   \n",
       "\n",
       "                             updated_at  program_id             course_name  \\\n",
       "timestamp                                                                     \n",
       "2018-01-26 09:56:02 2016-06-14 19:52:26           1  PHP Full Stack Web Dev   \n",
       "\n",
       "                    course_subdomain  hour weekday  \n",
       "timestamp                                           \n",
       "2018-01-26 09:56:02              php     9  Friday  "
      ]
     },
     "execution_count": 15,
     "metadata": {},
     "output_type": "execute_result"
    }
   ],
   "source": [
    "lesson.head(1)"
   ]
  },
  {
   "cell_type": "code",
   "execution_count": 16,
   "id": "35973245",
   "metadata": {},
   "outputs": [
    {
     "data": {
      "text/plain": [
       "array(['Hampton', 'Teddy', 'Sequoia', 'Arches', 'Niagara', 'Pinnacles',\n",
       "       'Quincy', 'none', 'Kings', 'Lassen', 'Mammoth', 'Glacier',\n",
       "       'Denali', 'Joshua', 'Olympic', 'Ulysses', 'Badlands', 'Apollo',\n",
       "       'Ike', 'Voyageurs', 'Wrangell', 'Xanadu', 'Franklin', 'Yosemite',\n",
       "       'Staff', 'Zion', 'Andromeda', 'Betelgeuse', 'Ceres', 'Bayes',\n",
       "       'Deimos', 'Europa', 'Fortuna', 'Curie', 'Apex', 'Ganymede',\n",
       "       'Hyperion', 'Darden', 'Bash', 'Jupiter', 'Kalypso', 'Luna',\n",
       "       'Easley', 'Marco', 'Florence', 'Neptune', 'Oberon'], dtype=object)"
      ]
     },
     "execution_count": 16,
     "metadata": {},
     "output_type": "execute_result"
    }
   ],
   "source": [
    "cohort_keys = lesson.name.unique()\n",
    "cohort_keys"
   ]
  },
  {
   "cell_type": "code",
   "execution_count": 17,
   "id": "03d2a68c",
   "metadata": {},
   "outputs": [],
   "source": [
    "# For loop to gather the top five lessons for each cohort\n",
    "list_of_cohorts = []\n",
    "cohort_keys = lesson.name.unique()\n",
    "\n",
    "for keys in cohort_keys:\n",
    "    cohorts = pd.DataFrame(lesson[lesson.name == keys].path.value_counts().head(5))\n",
    "    list_of_cohorts.append(cohorts)"
   ]
  },
  {
   "cell_type": "code",
   "execution_count": 18,
   "id": "1ebc45e5",
   "metadata": {},
   "outputs": [
    {
     "data": {
      "text/html": [
       "<div>\n",
       "<style scoped>\n",
       "    .dataframe tbody tr th:only-of-type {\n",
       "        vertical-align: middle;\n",
       "    }\n",
       "\n",
       "    .dataframe tbody tr th {\n",
       "        vertical-align: top;\n",
       "    }\n",
       "\n",
       "    .dataframe thead th {\n",
       "        text-align: right;\n",
       "    }\n",
       "</style>\n",
       "<table border=\"1\" class=\"dataframe\">\n",
       "  <thead>\n",
       "    <tr style=\"text-align: right;\">\n",
       "      <th></th>\n",
       "      <th></th>\n",
       "      <th>path</th>\n",
       "    </tr>\n",
       "    <tr>\n",
       "      <th>cohort</th>\n",
       "      <th>lesson</th>\n",
       "      <th></th>\n",
       "    </tr>\n",
       "  </thead>\n",
       "  <tbody>\n",
       "    <tr>\n",
       "      <th rowspan=\"5\" valign=\"top\">Hampton</th>\n",
       "      <th>java-iii</th>\n",
       "      <td>57</td>\n",
       "    </tr>\n",
       "    <tr>\n",
       "      <th>java-ii</th>\n",
       "      <td>46</td>\n",
       "    </tr>\n",
       "    <tr>\n",
       "      <th>java-i</th>\n",
       "      <td>46</td>\n",
       "    </tr>\n",
       "    <tr>\n",
       "      <th>spring</th>\n",
       "      <td>43</td>\n",
       "    </tr>\n",
       "    <tr>\n",
       "      <th>javascript-i</th>\n",
       "      <td>36</td>\n",
       "    </tr>\n",
       "    <tr>\n",
       "      <th rowspan=\"5\" valign=\"top\">Teddy</th>\n",
       "      <th>spring</th>\n",
       "      <td>744</td>\n",
       "    </tr>\n",
       "    <tr>\n",
       "      <th>java-iii</th>\n",
       "      <td>732</td>\n",
       "    </tr>\n",
       "    <tr>\n",
       "      <th>mysql</th>\n",
       "      <td>638</td>\n",
       "    </tr>\n",
       "    <tr>\n",
       "      <th>javascript-i</th>\n",
       "      <td>615</td>\n",
       "    </tr>\n",
       "    <tr>\n",
       "      <th>mkdocs/search_index.json</th>\n",
       "      <td>595</td>\n",
       "    </tr>\n",
       "  </tbody>\n",
       "</table>\n",
       "</div>"
      ],
      "text/plain": [
       "                                  path\n",
       "cohort  lesson                        \n",
       "Hampton java-iii                    57\n",
       "        java-ii                     46\n",
       "        java-i                      46\n",
       "        spring                      43\n",
       "        javascript-i                36\n",
       "Teddy   spring                     744\n",
       "        java-iii                   732\n",
       "        mysql                      638\n",
       "        javascript-i               615\n",
       "        mkdocs/search_index.json   595"
      ]
     },
     "execution_count": 18,
     "metadata": {},
     "output_type": "execute_result"
    }
   ],
   "source": [
    "# Dataframe with all of the cohorts top five lessons!\n",
    "top_cohort_lesson = pd.concat(list_of_cohorts, keys=cohort_keys, names=['cohort', 'lesson'])\n",
    "top_cohort_lesson.head(10)"
   ]
  },
  {
   "cell_type": "code",
   "execution_count": 31,
   "id": "0ba4814d",
   "metadata": {},
   "outputs": [
    {
     "data": {
      "text/html": [
       "<div>\n",
       "<style scoped>\n",
       "    .dataframe tbody tr th:only-of-type {\n",
       "        vertical-align: middle;\n",
       "    }\n",
       "\n",
       "    .dataframe tbody tr th {\n",
       "        vertical-align: top;\n",
       "    }\n",
       "\n",
       "    .dataframe thead th {\n",
       "        text-align: right;\n",
       "    }\n",
       "</style>\n",
       "<table border=\"1\" class=\"dataframe\">\n",
       "  <thead>\n",
       "    <tr style=\"text-align: right;\">\n",
       "      <th></th>\n",
       "      <th>cohort</th>\n",
       "      <th>lesson</th>\n",
       "      <th>path</th>\n",
       "    </tr>\n",
       "  </thead>\n",
       "  <tbody>\n",
       "    <tr>\n",
       "      <th>0</th>\n",
       "      <td>Hampton</td>\n",
       "      <td>java-iii</td>\n",
       "      <td>57</td>\n",
       "    </tr>\n",
       "    <tr>\n",
       "      <th>1</th>\n",
       "      <td>Hampton</td>\n",
       "      <td>java-ii</td>\n",
       "      <td>46</td>\n",
       "    </tr>\n",
       "    <tr>\n",
       "      <th>2</th>\n",
       "      <td>Hampton</td>\n",
       "      <td>java-i</td>\n",
       "      <td>46</td>\n",
       "    </tr>\n",
       "    <tr>\n",
       "      <th>3</th>\n",
       "      <td>Hampton</td>\n",
       "      <td>spring</td>\n",
       "      <td>43</td>\n",
       "    </tr>\n",
       "    <tr>\n",
       "      <th>4</th>\n",
       "      <td>Hampton</td>\n",
       "      <td>javascript-i</td>\n",
       "      <td>36</td>\n",
       "    </tr>\n",
       "    <tr>\n",
       "      <th>5</th>\n",
       "      <td>Teddy</td>\n",
       "      <td>spring</td>\n",
       "      <td>744</td>\n",
       "    </tr>\n",
       "    <tr>\n",
       "      <th>6</th>\n",
       "      <td>Teddy</td>\n",
       "      <td>java-iii</td>\n",
       "      <td>732</td>\n",
       "    </tr>\n",
       "    <tr>\n",
       "      <th>7</th>\n",
       "      <td>Teddy</td>\n",
       "      <td>mysql</td>\n",
       "      <td>638</td>\n",
       "    </tr>\n",
       "    <tr>\n",
       "      <th>8</th>\n",
       "      <td>Teddy</td>\n",
       "      <td>javascript-i</td>\n",
       "      <td>615</td>\n",
       "    </tr>\n",
       "    <tr>\n",
       "      <th>9</th>\n",
       "      <td>Teddy</td>\n",
       "      <td>mkdocs/search_index.json</td>\n",
       "      <td>595</td>\n",
       "    </tr>\n",
       "  </tbody>\n",
       "</table>\n",
       "</div>"
      ],
      "text/plain": [
       "    cohort                    lesson  path\n",
       "0  Hampton                  java-iii    57\n",
       "1  Hampton                   java-ii    46\n",
       "2  Hampton                    java-i    46\n",
       "3  Hampton                    spring    43\n",
       "4  Hampton              javascript-i    36\n",
       "5    Teddy                    spring   744\n",
       "6    Teddy                  java-iii   732\n",
       "7    Teddy                     mysql   638\n",
       "8    Teddy              javascript-i   615\n",
       "9    Teddy  mkdocs/search_index.json   595"
      ]
     },
     "execution_count": 31,
     "metadata": {},
     "output_type": "execute_result"
    }
   ],
   "source": [
    "tcl = top_cohort_lesson.reset_index(level=[0,1])\n",
    "tcl.head(10)"
   ]
  },
  {
   "cell_type": "code",
   "execution_count": 49,
   "id": "96db9e4d",
   "metadata": {},
   "outputs": [
    {
     "data": {
      "text/plain": [
       "5-stats/3-probability-distributions                 1\n",
       "python/data-types-and-variables                     1\n",
       "fundamentals/data-science-pipeline                  1\n",
       "prework/versioning/github                           1\n",
       "3-sql/1-mysql-overview                              1\n",
       "html-css/css-ii/bootstrap-grid-system               1\n",
       "html-css/introduction                               1\n",
       "java-i/methods                                      1\n",
       "regression/model                                    1\n",
       "content/php_ii/command-line                         1\n",
       "content/php_ii/command-line/io-streams.html         1\n",
       "spring/fundamentals/repositories                    1\n",
       "javascript-i/introduction/operators                 1\n",
       "content/javascript                                  1\n",
       "content/php_ii                                      1\n",
       "content/laravel/intro/gitbook/images/favicon.ico    1\n",
       "content/laravel/intro/environment.html              1\n",
       "java-iii/user-input                                 1\n",
       "6-regression/5.0-evaluate                           1\n",
       "content/php_i                                       1\n",
       "Name: lesson, dtype: int64"
      ]
     },
     "execution_count": 49,
     "metadata": {},
     "output_type": "execute_result"
    }
   ],
   "source": [
    "tcl.lesson.value_counts().tail(20)"
   ]
  },
  {
   "cell_type": "code",
   "execution_count": 50,
   "id": "61007116",
   "metadata": {},
   "outputs": [
    {
     "data": {
      "text/html": [
       "<div>\n",
       "<style scoped>\n",
       "    .dataframe tbody tr th:only-of-type {\n",
       "        vertical-align: middle;\n",
       "    }\n",
       "\n",
       "    .dataframe tbody tr th {\n",
       "        vertical-align: top;\n",
       "    }\n",
       "\n",
       "    .dataframe thead th {\n",
       "        text-align: right;\n",
       "    }\n",
       "</style>\n",
       "<table border=\"1\" class=\"dataframe\">\n",
       "  <thead>\n",
       "    <tr style=\"text-align: right;\">\n",
       "      <th></th>\n",
       "      <th>cohort</th>\n",
       "      <th>lesson</th>\n",
       "      <th>path</th>\n",
       "    </tr>\n",
       "  </thead>\n",
       "  <tbody>\n",
       "    <tr>\n",
       "      <th>212</th>\n",
       "      <td>Marco</td>\n",
       "      <td>javascript-i/introduction/working-with-data-ty...</td>\n",
       "      <td>505</td>\n",
       "    </tr>\n",
       "    <tr>\n",
       "      <th>221</th>\n",
       "      <td>Neptune</td>\n",
       "      <td>javascript-i/introduction/working-with-data-ty...</td>\n",
       "      <td>329</td>\n",
       "    </tr>\n",
       "    <tr>\n",
       "      <th>202</th>\n",
       "      <td>Luna</td>\n",
       "      <td>javascript-i/introduction/working-with-data-ty...</td>\n",
       "      <td>315</td>\n",
       "    </tr>\n",
       "    <tr>\n",
       "      <th>229</th>\n",
       "      <td>Oberon</td>\n",
       "      <td>javascript-i/introduction/working-with-data-ty...</td>\n",
       "      <td>146</td>\n",
       "    </tr>\n",
       "    <tr>\n",
       "      <th>56</th>\n",
       "      <td>Glacier</td>\n",
       "      <td>javascript-i/introduction/working-with-data-ty...</td>\n",
       "      <td>24</td>\n",
       "    </tr>\n",
       "  </tbody>\n",
       "</table>\n",
       "</div>"
      ],
      "text/plain": [
       "      cohort                                             lesson  path\n",
       "212    Marco  javascript-i/introduction/working-with-data-ty...   505\n",
       "221  Neptune  javascript-i/introduction/working-with-data-ty...   329\n",
       "202     Luna  javascript-i/introduction/working-with-data-ty...   315\n",
       "229   Oberon  javascript-i/introduction/working-with-data-ty...   146\n",
       "56   Glacier  javascript-i/introduction/working-with-data-ty...    24"
      ]
     },
     "execution_count": 50,
     "metadata": {},
     "output_type": "execute_result"
    }
   ],
   "source": [
    "tcl[tcl.lesson == 'javascript-i/introduction/working-with-data-types-operators-and-variables'].sort_values('path', ascending=False)"
   ]
  },
  {
   "cell_type": "code",
   "execution_count": 21,
   "id": "2331061e",
   "metadata": {},
   "outputs": [
    {
     "data": {
      "image/png": "[encoded data removed]",
      "text/plain": [
       "<Figure size 720x14400 with 1 Axes>"
      ]
     },
     "metadata": {
      "needs_background": "light"
     },
     "output_type": "display_data"
    }
   ],
   "source": [
    "\n",
    "plt.figure(figsize=(10, 200))\n",
    "sns.barplot(data=tcl, x=\"path\", y=\"lesson\", \n",
    "            hue=\"cohort\", palette=\"Paired\", )\n",
    "plt.title('Top Lessons for Data Science')\n",
    "plt.show()"
   ]
  },
  {
   "cell_type": "markdown",
   "id": "eb8b42eb",
   "metadata": {},
   "source": [
    "#### Findings:\n",
    "- The Staff accessed the top lessons the most \n",
    "- Darden cohort accessed the \"Stats/compare-means\" twice as much as Easley\n",
    "- Darden cohort accessed the \"sql/mysql-overview\" more than three time as much as Easley or Florence\n",
    "- Ceres cohort accessed the \"jquery\" more than any other cohort \n",
    "- Marco cohort accessed the \"javascript-i/introduction/working-with-data-types-operators-and-variables\" lesson more times than the four other cohorts that accessed that page by a path count of 176"
   ]
  },
  {
   "cell_type": "markdown",
   "id": "6e72f83d",
   "metadata": {},
   "source": [
    "### 5. At some point in 2019, the ability for students and alumni to access both curriculums (web dev to ds, ds to web dev) should have been shut off. Do you see any evidence of that happening? Did it happen before?\n"
   ]
  },
  {
   "cell_type": "code",
   "execution_count": 89,
   "id": "b4738423",
   "metadata": {},
   "outputs": [
    {
     "data": {
      "text/html": [
       "<div>\n",
       "<style scoped>\n",
       "    .dataframe tbody tr th:only-of-type {\n",
       "        vertical-align: middle;\n",
       "    }\n",
       "\n",
       "    .dataframe tbody tr th {\n",
       "        vertical-align: top;\n",
       "    }\n",
       "\n",
       "    .dataframe thead th {\n",
       "        text-align: right;\n",
       "    }\n",
       "</style>\n",
       "<table border=\"1\" class=\"dataframe\">\n",
       "  <thead>\n",
       "    <tr style=\"text-align: right;\">\n",
       "      <th></th>\n",
       "      <th>path</th>\n",
       "      <th>user_id</th>\n",
       "      <th>cohort_id</th>\n",
       "      <th>ip</th>\n",
       "      <th>name</th>\n",
       "      <th>slack</th>\n",
       "      <th>start_date</th>\n",
       "      <th>end_date</th>\n",
       "      <th>created_at</th>\n",
       "      <th>updated_at</th>\n",
       "      <th>program_id</th>\n",
       "      <th>course_name</th>\n",
       "      <th>course_subdomain</th>\n",
       "      <th>hour</th>\n",
       "      <th>weekday</th>\n",
       "      <th>timestamp_year</th>\n",
       "    </tr>\n",
       "    <tr>\n",
       "      <th>timestamp</th>\n",
       "      <th></th>\n",
       "      <th></th>\n",
       "      <th></th>\n",
       "      <th></th>\n",
       "      <th></th>\n",
       "      <th></th>\n",
       "      <th></th>\n",
       "      <th></th>\n",
       "      <th></th>\n",
       "      <th></th>\n",
       "      <th></th>\n",
       "      <th></th>\n",
       "      <th></th>\n",
       "      <th></th>\n",
       "      <th></th>\n",
       "      <th></th>\n",
       "    </tr>\n",
       "  </thead>\n",
       "  <tbody>\n",
       "    <tr>\n",
       "      <th>2018-01-26 09:56:02</th>\n",
       "      <td>java-ii</td>\n",
       "      <td>1</td>\n",
       "      <td>8</td>\n",
       "      <td>97.105.19.61</td>\n",
       "      <td>Hampton</td>\n",
       "      <td>#hampton</td>\n",
       "      <td>2015-09-22</td>\n",
       "      <td>2016-02-06</td>\n",
       "      <td>2016-06-14 19:52:26</td>\n",
       "      <td>2016-06-14 19:52:26</td>\n",
       "      <td>1</td>\n",
       "      <td>PHP Full Stack Web Dev</td>\n",
       "      <td>php</td>\n",
       "      <td>9</td>\n",
       "      <td>Friday</td>\n",
       "      <td>2018</td>\n",
       "    </tr>\n",
       "  </tbody>\n",
       "</table>\n",
       "</div>"
      ],
      "text/plain": [
       "                        path  user_id  cohort_id            ip     name  \\\n",
       "timestamp                                                                 \n",
       "2018-01-26 09:56:02  java-ii        1          8  97.105.19.61  Hampton   \n",
       "\n",
       "                        slack start_date   end_date          created_at  \\\n",
       "timestamp                                                                 \n",
       "2018-01-26 09:56:02  #hampton 2015-09-22 2016-02-06 2016-06-14 19:52:26   \n",
       "\n",
       "                             updated_at  program_id             course_name  \\\n",
       "timestamp                                                                     \n",
       "2018-01-26 09:56:02 2016-06-14 19:52:26           1  PHP Full Stack Web Dev   \n",
       "\n",
       "                    course_subdomain  hour weekday  timestamp_year  \n",
       "timestamp                                                           \n",
       "2018-01-26 09:56:02              php     9  Friday            2018  "
      ]
     },
     "execution_count": 89,
     "metadata": {},
     "output_type": "execute_result"
    }
   ],
   "source": [
    "lesson['timestamp_year'] = lesson.index.year\n",
    "lesson.head(1)"
   ]
  },
  {
   "cell_type": "code",
   "execution_count": 90,
   "id": "87900016",
   "metadata": {
    "scrolled": true
   },
   "outputs": [
    {
     "data": {
      "text/plain": [
       "itc%20-%20ml                                      1\n",
       "9-timeseries/6.2-prophet                          1\n",
       "12-distributed-ml/8.1-classification              1\n",
       "javascript-i/bom-and-dom/dom                      1\n",
       "7-classification/confusion-matrix                 1\n",
       "3-vocabulary                                      1\n",
       "mkdocs/search_index.json                          1\n",
       "storytelling/creating-custom-fields.md            1\n",
       "appendix/open_data/www.openstreetmap.org          1\n",
       "12-distributed-ml/3-getting-started               1\n",
       "12-distributed-ml/6.3-prepare-part-3              1\n",
       "7-classification/svm                              1\n",
       "spring/extra-features/error-pages/asdfasdf        1\n",
       "end_to_end_clustering                             1\n",
       "databases                                         1\n",
       "javascript-i/conditionals                         1\n",
       "6-regression/8-Project                            1\n",
       "appendix/interview-questions-students             1\n",
       "appendix/git/cli                                  1\n",
       "capstones                                         1\n",
       "nlp                                               1\n",
       "imports                                           1\n",
       "python/introduction-to-python.md                  1\n",
       "sql                                               1\n",
       "appendix/open_data/www.census.gov                 1\n",
       "12-distributed-ml/6.4-prepare-part-4              1\n",
       "where                                             1\n",
       "curie-statistics-assessment                       1\n",
       "joins                                             1\n",
       ".gitignore                                        1\n",
       "12-distributed-ml/6.1-prepare-part-1              1\n",
       "appendix/git/intellij                             1\n",
       "5-stats/4.2-compare-means/null                    1\n",
       "creating-charts                                   1\n",
       "cli/4-navigating-the-filesystem                   1\n",
       "12-distributed-ml/spark-topics                    1\n",
       "3-sql                                             1\n",
       "b-clustering/project                              1\n",
       "End_to_End_clustering                             1\n",
       "A-clustering/project                              1\n",
       "case-statements                                   1\n",
       "java-i/console-io                                 1\n",
       "sql/mysql-introduction.md                         1\n",
       "5-detecting-with-clustering                       1\n",
       "7.4.2-series                                      1\n",
       "database-design                                   1\n",
       "evaluate                                          1\n",
       "understand                                        1\n",
       "java-ii/object-oriented-programming               1\n",
       "appendix/open_data/www.flickr.com/services/api    1\n",
       "Name: path, dtype: int64"
      ]
     },
     "execution_count": 90,
     "metadata": {},
     "output_type": "execute_result"
    }
   ],
   "source": [
    "# To see if ds students are accessing web dev:\n",
    "lesson[lesson.course_subdomain == 'ds'].path.value_counts().tail(50)"
   ]
  },
  {
   "cell_type": "markdown",
   "id": "8bd5613c",
   "metadata": {},
   "source": [
    "#### Findings:\n",
    "Yes, it seem as though ds students were acessing java and javascript pages"
   ]
  },
  {
   "cell_type": "code",
   "execution_count": 95,
   "id": "e725e406",
   "metadata": {},
   "outputs": [
    {
     "data": {
      "text/html": [
       "<div>\n",
       "<style scoped>\n",
       "    .dataframe tbody tr th:only-of-type {\n",
       "        vertical-align: middle;\n",
       "    }\n",
       "\n",
       "    .dataframe tbody tr th {\n",
       "        vertical-align: top;\n",
       "    }\n",
       "\n",
       "    .dataframe thead th {\n",
       "        text-align: right;\n",
       "    }\n",
       "</style>\n",
       "<table border=\"1\" class=\"dataframe\">\n",
       "  <thead>\n",
       "    <tr style=\"text-align: right;\">\n",
       "      <th></th>\n",
       "      <th>path</th>\n",
       "      <th>user_id</th>\n",
       "      <th>cohort_id</th>\n",
       "      <th>ip</th>\n",
       "      <th>name</th>\n",
       "      <th>slack</th>\n",
       "      <th>start_date</th>\n",
       "      <th>end_date</th>\n",
       "      <th>created_at</th>\n",
       "      <th>updated_at</th>\n",
       "      <th>program_id</th>\n",
       "      <th>course_name</th>\n",
       "      <th>course_subdomain</th>\n",
       "      <th>hour</th>\n",
       "      <th>weekday</th>\n",
       "      <th>timestamp_year</th>\n",
       "    </tr>\n",
       "    <tr>\n",
       "      <th>timestamp</th>\n",
       "      <th></th>\n",
       "      <th></th>\n",
       "      <th></th>\n",
       "      <th></th>\n",
       "      <th></th>\n",
       "      <th></th>\n",
       "      <th></th>\n",
       "      <th></th>\n",
       "      <th></th>\n",
       "      <th></th>\n",
       "      <th></th>\n",
       "      <th></th>\n",
       "      <th></th>\n",
       "      <th></th>\n",
       "      <th></th>\n",
       "      <th></th>\n",
       "    </tr>\n",
       "  </thead>\n",
       "  <tbody>\n",
       "    <tr>\n",
       "      <th>2020-01-01 15:35:02</th>\n",
       "      <td>10-anomaly-detection/1-overview</td>\n",
       "      <td>476</td>\n",
       "      <td>34</td>\n",
       "      <td>136.50.49.145</td>\n",
       "      <td>Bayes</td>\n",
       "      <td>#</td>\n",
       "      <td>2019-08-19</td>\n",
       "      <td>2020-01-30</td>\n",
       "      <td>2019-08-20 14:38:55</td>\n",
       "      <td>2019-08-20 14:38:55</td>\n",
       "      <td>3</td>\n",
       "      <td>Data Science</td>\n",
       "      <td>ds</td>\n",
       "      <td>15</td>\n",
       "      <td>Wednesday</td>\n",
       "      <td>2020</td>\n",
       "    </tr>\n",
       "  </tbody>\n",
       "</table>\n",
       "</div>"
      ],
      "text/plain": [
       "                                                path  user_id  cohort_id  \\\n",
       "timestamp                                                                  \n",
       "2020-01-01 15:35:02  10-anomaly-detection/1-overview      476         34   \n",
       "\n",
       "                                ip   name slack start_date   end_date  \\\n",
       "timestamp                                                               \n",
       "2020-01-01 15:35:02  136.50.49.145  Bayes     # 2019-08-19 2020-01-30   \n",
       "\n",
       "                             created_at          updated_at  program_id  \\\n",
       "timestamp                                                                 \n",
       "2020-01-01 15:35:02 2019-08-20 14:38:55 2019-08-20 14:38:55           3   \n",
       "\n",
       "                      course_name course_subdomain  hour    weekday  \\\n",
       "timestamp                                                             \n",
       "2020-01-01 15:35:02  Data Science               ds    15  Wednesday   \n",
       "\n",
       "                     timestamp_year  \n",
       "timestamp                            \n",
       "2020-01-01 15:35:02            2020  "
      ]
     },
     "execution_count": 95,
     "metadata": {},
     "output_type": "execute_result"
    }
   ],
   "source": [
    "# Exploring all ds students from 2020 and later\n",
    "ds = lesson[lesson.course_subdomain == 'ds']\n",
    "ds[ds.timestamp_year > 2019].head(1)"
   ]
  },
  {
   "cell_type": "code",
   "execution_count": 96,
   "id": "6a359123",
   "metadata": {
    "scrolled": true
   },
   "outputs": [
    {
     "data": {
      "text/plain": [
       "decision-trees                                                 1\n",
       "classification/knn.md                                          1\n",
       "fundamentals/cli/navigating-the-filesystem.md                  1\n",
       "grades/getUserDetails/916/3                                    1\n",
       "introduction-to-python                                         1\n",
       "3-vocabulary                                                   1\n",
       "statistics-assessment                                          1\n",
       "json-responses                                                 1\n",
       "understand                                                     1\n",
       "11-nlp/pos-tagging                                             1\n",
       "%20https://github.com/RaulCPena                                1\n",
       "evaluate                                                       1\n",
       "2-storytelling/1-overview/www.qlik.com                         1\n",
       "curie-statistics-assessment                                    1\n",
       "case-statements                                                1\n",
       "search                                                         1\n",
       "joins                                                          1\n",
       "3-sql                                                          1\n",
       "group-by                                                       1\n",
       "python/custom-sorting-functions                                1\n",
       "8-clustering/end-to-end-clustering                             1\n",
       "acquire-and-prep                                               1\n",
       "regression/feature_engineering_into_modeling                   1\n",
       "10-anomaly-detection/3-discrete-probabilistic-methods.ipynb    1\n",
       "stats-assessment                                               1\n",
       "bad-charts                                                     1\n",
       "7-classification/confusion-matrix.md                           1\n",
       "grades                                                         1\n",
       "4-python/pandas-lesson                                         1\n",
       "appendix/open_data/www.openstreetmap.org                       1\n",
       "7-classification/6.5-svm                                       1\n",
       "10-anomaly-detection/isolation-forests                         1\n",
       "appendix/open_data/www.flickr.com/services/api                 1\n",
       "b-clustering/project                                           1\n",
       "fundamentals/intro-to-data-science.md                          1\n",
       "sql                                                            1\n",
       "4.2-compare-means                                              1\n",
       "creating-charts                                                1\n",
       "databases                                                      1\n",
       "7-classification/ensemble                                      1\n",
       "imports                                                        1\n",
       "java-ii/object-oriented-programming                            1\n",
       "python/introduction-to-python.md                               1\n",
       "6-regression/8-Project                                         1\n",
       "sql/mysql-introduction.md                                      1\n",
       "appendix/open_data/www.census.gov                              1\n",
       "database-design                                                1\n",
       "spring                                                         1\n",
       "11-nlp/topic-modeling                                          1\n",
       "where                                                          1\n",
       "Name: path, dtype: int64"
      ]
     },
     "execution_count": 96,
     "metadata": {},
     "output_type": "execute_result"
    }
   ],
   "source": [
    "ds[ds.timestamp_year > 2019].path.value_counts().tail(50)"
   ]
  },
  {
   "cell_type": "markdown",
   "id": "3e249430",
   "metadata": {},
   "source": [
    "#### Findings:\n",
    "Although there are less, there are at least two instances of ds students wd site: java-ii/object-oriented-programming and spring\n"
   ]
  },
  {
   "cell_type": "code",
   "execution_count": 100,
   "id": "a18856e7",
   "metadata": {},
   "outputs": [
    {
     "data": {
      "text/html": [
       "<div>\n",
       "<style scoped>\n",
       "    .dataframe tbody tr th:only-of-type {\n",
       "        vertical-align: middle;\n",
       "    }\n",
       "\n",
       "    .dataframe tbody tr th {\n",
       "        vertical-align: top;\n",
       "    }\n",
       "\n",
       "    .dataframe thead th {\n",
       "        text-align: right;\n",
       "    }\n",
       "</style>\n",
       "<table border=\"1\" class=\"dataframe\">\n",
       "  <thead>\n",
       "    <tr style=\"text-align: right;\">\n",
       "      <th></th>\n",
       "      <th>path</th>\n",
       "      <th>user_id</th>\n",
       "      <th>cohort_id</th>\n",
       "      <th>ip</th>\n",
       "      <th>name</th>\n",
       "      <th>slack</th>\n",
       "      <th>start_date</th>\n",
       "      <th>end_date</th>\n",
       "      <th>created_at</th>\n",
       "      <th>updated_at</th>\n",
       "      <th>program_id</th>\n",
       "      <th>course_name</th>\n",
       "      <th>course_subdomain</th>\n",
       "      <th>hour</th>\n",
       "      <th>weekday</th>\n",
       "      <th>timestamp_year</th>\n",
       "    </tr>\n",
       "    <tr>\n",
       "      <th>timestamp</th>\n",
       "      <th></th>\n",
       "      <th></th>\n",
       "      <th></th>\n",
       "      <th></th>\n",
       "      <th></th>\n",
       "      <th></th>\n",
       "      <th></th>\n",
       "      <th></th>\n",
       "      <th></th>\n",
       "      <th></th>\n",
       "      <th></th>\n",
       "      <th></th>\n",
       "      <th></th>\n",
       "      <th></th>\n",
       "      <th></th>\n",
       "      <th></th>\n",
       "    </tr>\n",
       "  </thead>\n",
       "  <tbody>\n",
       "    <tr>\n",
       "      <th>2018-01-26 09:56:02</th>\n",
       "      <td>java-ii</td>\n",
       "      <td>1</td>\n",
       "      <td>8</td>\n",
       "      <td>97.105.19.61</td>\n",
       "      <td>Hampton</td>\n",
       "      <td>#hampton</td>\n",
       "      <td>2015-09-22</td>\n",
       "      <td>2016-02-06</td>\n",
       "      <td>2016-06-14 19:52:26</td>\n",
       "      <td>2016-06-14 19:52:26</td>\n",
       "      <td>1</td>\n",
       "      <td>PHP Full Stack Web Dev</td>\n",
       "      <td>php</td>\n",
       "      <td>9</td>\n",
       "      <td>Friday</td>\n",
       "      <td>2018</td>\n",
       "    </tr>\n",
       "  </tbody>\n",
       "</table>\n",
       "</div>"
      ],
      "text/plain": [
       "                        path  user_id  cohort_id            ip     name  \\\n",
       "timestamp                                                                 \n",
       "2018-01-26 09:56:02  java-ii        1          8  97.105.19.61  Hampton   \n",
       "\n",
       "                        slack start_date   end_date          created_at  \\\n",
       "timestamp                                                                 \n",
       "2018-01-26 09:56:02  #hampton 2015-09-22 2016-02-06 2016-06-14 19:52:26   \n",
       "\n",
       "                             updated_at  program_id             course_name  \\\n",
       "timestamp                                                                     \n",
       "2018-01-26 09:56:02 2016-06-14 19:52:26           1  PHP Full Stack Web Dev   \n",
       "\n",
       "                    course_subdomain  hour weekday  timestamp_year  \n",
       "timestamp                                                           \n",
       "2018-01-26 09:56:02              php     9  Friday            2018  "
      ]
     },
     "execution_count": 100,
     "metadata": {},
     "output_type": "execute_result"
    }
   ],
   "source": [
    "# Now exploring web dev:\n",
    "wd = lesson[lesson.course_subdomain != 'ds']\n",
    "wd.head(1)"
   ]
  },
  {
   "cell_type": "code",
   "execution_count": 102,
   "id": "26a1573e",
   "metadata": {},
   "outputs": [
    {
     "data": {
      "text/plain": [
       "10-anomaly-detection/3-discrete-probabilistic-methods.ipynb                1\n",
       "home                                                                       1\n",
       "content/appendix/javascript/functions/templating.html                      1\n",
       "javascript/loops                                                           1\n",
       "java-iii/jdbc/poop                                                         1\n",
       "html-css/introduction/:view-page                                           1\n",
       "java-iii/sessions-and-cookies/style/css                                    1\n",
       "6-regression/3-univariate-regression-in-excel                              1\n",
       "Clustering_Project                                                         1\n",
       "selectors                                                                  1\n",
       "coding-challenges                                                          1\n",
       "130                                                                        1\n",
       "slides/exceptions_and_errorhandlings                                       1\n",
       "3.5-evaluation.md                                                          1\n",
       "11-distributed-ml/exercises                                                1\n",
       "content/examples/php/Input.php                                             1\n",
       "anomaly-detection/time-series-anomaly-detection-part-2                     1\n",
       "wp-admin                                                                   1\n",
       "html-css/grid/css-grid-fundamentals                                        1\n",
       "slides/exceptions                                                          1\n",
       "php_i/gitbook/images/favicon.ico                                           1\n",
       "prework/cli/03-filepaths                                                   1\n",
       "ltc-python                                                                 1\n",
       "8._Time_Series.md                                                          1\n",
       "javascript-/introducion/working-with-data-types-operators-and-variables    1\n",
       "extra                                                                      1\n",
       "appendix/further-reading/html-css                                          1\n",
       "content/appendix/javascript/javascript/functions/scope.html                1\n",
       "html-css/introduction:view-page                                            1\n",
       "students/743/notes/1                                                       1\n",
       "8-timeseries/2-intro-to-timeseries                                         1\n",
       "10_Projects                                                                1\n",
       "one                                                                        1\n",
       "timeseries/sarimax                                                         1\n",
       "content/examples/php/arithmetic.php                                        1\n",
       "content/examples/html                                                      1\n",
       "strudents                                                                  1\n",
       "html-css/css-ii/boostrap-grid-system                                       1\n",
       "content/examples/git/gitbook/images/favicon.ico                            1\n",
       "java-iii/servelets                                                         1\n",
       "quizes                                                                     1\n",
       "java-i/control-statements-and-loops/g                                      1\n",
       "ajax                                                                       1\n",
       "further-reading/javascript/array-splice                                    1\n",
       "appendix/professional-development/post-interview-review-form               1\n",
       "register%20t                                                               1\n",
       "8-clustering/review                                                        1\n",
       "grades/getUserDetails/912/3                                                1\n",
       "11-distributed-ml/6.3-prepare-part-3                                       1\n",
       "asset-manifest.json                                                        1\n",
       "Name: path, dtype: int64"
      ]
     },
     "execution_count": 102,
     "metadata": {},
     "output_type": "execute_result"
    }
   ],
   "source": [
    "# Web dev over all of the years:\n",
    "wd.path.value_counts().tail(50)"
   ]
  },
  {
   "cell_type": "code",
   "execution_count": 101,
   "id": "79783ac4",
   "metadata": {},
   "outputs": [
    {
     "data": {
      "text/plain": [
       "codeup-exercises                                                   1\n",
       "mysql//functions                                                   1\n",
       "appendix/professional                                              1\n",
       "mysql/java-iii                                                     1\n",
       "content/javascript/bom-and-dom/google_maps_api.html                1\n",
       "examples/bootstrap/pizza.pn                                        1\n",
       "codeupexercises                                                    1\n",
       "content/loops.html                                                 1\n",
       "hand                                                               1\n",
       "appendix/further-reading/html-css                                  1\n",
       "content/php_iv/php-with-mysql/create-a-park-model.html             1\n",
       "ajax/requests-and-responses                                        1\n",
       "interfaces-and-abstract-classes                                    1\n",
       "storytelling                                                       1\n",
       "spring/integration-tests                                           1\n",
       "mysql//sample-database                                             1\n",
       "teams                                                              1\n",
       "appendix/further-reading/java/intellij-tomcat                      1\n",
       "python/objects                                                     1\n",
       "create                                                             1\n",
       "slides/exceptions_and_error_handlings                              1\n",
       "content/appendix/javascript/functions/controllers.html             1\n",
       "content/php_i/intro-to-operators/gitbook/images/favicon.ico        1\n",
       "users/913                                                          1\n",
       "content/appendix/documentation/gitbook/images/favicon.ico          1\n",
       "slides/formmodelbinding                                            1\n",
       "ajax-api-request.html                                              1\n",
       "mysql/databases.html                                               1\n",
       "html-css/introduction/:view-page                                   1\n",
       "appendix/further-reading/mysq                                      1\n",
       "content/appendix/javascript/functions/models.html                  1\n",
       "html-css/css-i/positioning/specimen/MaterialIcons-Regular.woff2    1\n",
       "content/appendix/javascript/functions/templating.html              1\n",
       "appendix/email-setup                                               1\n",
       "html-css/introduction:view-page                                    1\n",
       "content/appendix/postwork/locations.html                           1\n",
       "content/php_iv/classes-and-objects-ii/inheritance.html             1\n",
       "ltc-python                                                         1\n",
       "content/jquery/essential-methods                                   1\n",
       "content/javascript/objects                                         1\n",
       "coding-challenges                                                  1\n",
       "git/intellij-intro                                                 1\n",
       "content/laravel/more-features/db-relationships.html                1\n",
       "bayes-capstones/html                                               1\n",
       "bom-and-dom/dom                                                    1\n",
       "anomaly-detection/time-series-anomaly-detection-part-2             1\n",
       "appendix/cli/file-paths                                            1\n",
       "appendix/professional-development/interview-guidance               1\n",
       "content/examples/examples/examples/gitbook/images/favicon.ico      1\n",
       "curie-python-assessment.html                                       1\n",
       "Name: path, dtype: int64"
      ]
     },
     "execution_count": 101,
     "metadata": {},
     "output_type": "execute_result"
    }
   ],
   "source": [
    "# Web Dev after 2019:\n",
    "wd[wd.timestamp_year > 2019].path.value_counts().tail(50)"
   ]
  },
  {
   "cell_type": "markdown",
   "id": "9385232b",
   "metadata": {},
   "source": [
    "#### Findings:\n",
    "For web Dev, they did seem to access the Data Science curriculum fairly often prior to having access denied. After 2019, there was a large drop off, but there seems to be a few cases where a data science topic was accessed."
   ]
  },
  {
   "cell_type": "markdown",
   "id": "7822f444",
   "metadata": {},
   "source": [
    "### 6. What topics are grads continuing to reference after graduation and into their jobs (for each program)?\n"
   ]
  },
  {
   "cell_type": "code",
   "execution_count": 56,
   "id": "7a049ce9",
   "metadata": {},
   "outputs": [
    {
     "data": {
      "text/html": [
       "<div>\n",
       "<style scoped>\n",
       "    .dataframe tbody tr th:only-of-type {\n",
       "        vertical-align: middle;\n",
       "    }\n",
       "\n",
       "    .dataframe tbody tr th {\n",
       "        vertical-align: top;\n",
       "    }\n",
       "\n",
       "    .dataframe thead th {\n",
       "        text-align: right;\n",
       "    }\n",
       "</style>\n",
       "<table border=\"1\" class=\"dataframe\">\n",
       "  <thead>\n",
       "    <tr style=\"text-align: right;\">\n",
       "      <th></th>\n",
       "      <th>path</th>\n",
       "      <th>user_id</th>\n",
       "      <th>cohort_id</th>\n",
       "      <th>ip</th>\n",
       "      <th>name</th>\n",
       "      <th>slack</th>\n",
       "      <th>start_date</th>\n",
       "      <th>end_date</th>\n",
       "      <th>created_at</th>\n",
       "      <th>updated_at</th>\n",
       "      <th>program_id</th>\n",
       "      <th>course_name</th>\n",
       "      <th>course_subdomain</th>\n",
       "      <th>hour</th>\n",
       "      <th>weekday</th>\n",
       "    </tr>\n",
       "    <tr>\n",
       "      <th>timestamp</th>\n",
       "      <th></th>\n",
       "      <th></th>\n",
       "      <th></th>\n",
       "      <th></th>\n",
       "      <th></th>\n",
       "      <th></th>\n",
       "      <th></th>\n",
       "      <th></th>\n",
       "      <th></th>\n",
       "      <th></th>\n",
       "      <th></th>\n",
       "      <th></th>\n",
       "      <th></th>\n",
       "      <th></th>\n",
       "      <th></th>\n",
       "    </tr>\n",
       "  </thead>\n",
       "  <tbody>\n",
       "    <tr>\n",
       "      <th>2018-01-26 09:56:02</th>\n",
       "      <td>java-ii</td>\n",
       "      <td>1</td>\n",
       "      <td>8</td>\n",
       "      <td>97.105.19.61</td>\n",
       "      <td>Hampton</td>\n",
       "      <td>#hampton</td>\n",
       "      <td>2015-09-22</td>\n",
       "      <td>2016-02-06</td>\n",
       "      <td>2016-06-14 19:52:26</td>\n",
       "      <td>2016-06-14 19:52:26</td>\n",
       "      <td>1</td>\n",
       "      <td>PHP Full Stack Web Dev</td>\n",
       "      <td>php</td>\n",
       "      <td>9</td>\n",
       "      <td>Friday</td>\n",
       "    </tr>\n",
       "  </tbody>\n",
       "</table>\n",
       "</div>"
      ],
      "text/plain": [
       "                        path  user_id  cohort_id            ip     name  \\\n",
       "timestamp                                                                 \n",
       "2018-01-26 09:56:02  java-ii        1          8  97.105.19.61  Hampton   \n",
       "\n",
       "                        slack start_date   end_date          created_at  \\\n",
       "timestamp                                                                 \n",
       "2018-01-26 09:56:02  #hampton 2015-09-22 2016-02-06 2016-06-14 19:52:26   \n",
       "\n",
       "                             updated_at  program_id             course_name  \\\n",
       "timestamp                                                                     \n",
       "2018-01-26 09:56:02 2016-06-14 19:52:26           1  PHP Full Stack Web Dev   \n",
       "\n",
       "                    course_subdomain  hour weekday  \n",
       "timestamp                                           \n",
       "2018-01-26 09:56:02              php     9  Friday  "
      ]
     },
     "execution_count": 56,
     "metadata": {},
     "output_type": "execute_result"
    }
   ],
   "source": [
    "lesson.head(1)"
   ]
  },
  {
   "cell_type": "code",
   "execution_count": 66,
   "id": "0e14fda1",
   "metadata": {},
   "outputs": [],
   "source": [
    "# Dataframe with paths that were accessed after a cohort's end date:\n",
    "after_grad = lesson[lesson.index > lesson.end_date]"
   ]
  },
  {
   "cell_type": "code",
   "execution_count": 73,
   "id": "debbb859",
   "metadata": {},
   "outputs": [
    {
     "data": {
      "text/plain": [
       "javascript-i                        5749\n",
       "spring                              4913\n",
       "html-css                            4195\n",
       "java-iii                            4108\n",
       "java-ii                             3952\n",
       "java-i                              3528\n",
       "javascript-ii                       3417\n",
       "mysql                               3006\n",
       "jquery                              2953\n",
       "spring/fundamentals/repositories    2029\n",
       "Name: path, dtype: int64"
      ]
     },
     "execution_count": 73,
     "metadata": {},
     "output_type": "execute_result"
    }
   ],
   "source": [
    "after_grad[after_grad.course_subdomain != 'ds'].path.value_counts().head(10)"
   ]
  },
  {
   "cell_type": "markdown",
   "id": "f1797aa4",
   "metadata": {},
   "source": [
    "#### Findings:\n",
    "Overall, the top ten lessons accessed by post grads are:\n",
    "- javascript-i:                         5749\n",
    "- spring:                               4914\n",
    "- html-css:                             4195\n",
    "- java-iii:                             4108\n",
    "- java-ii:                              3952\n",
    "- java-i:                               3528\n",
    "- javascript-ii:                        3417\n",
    "- mysql:                                3011\n",
    "- jquery:                               2953\n",
    "- spring/fundamentals/repositories:     2029\n",
    "\n",
    "By Web Dev Students:\n",
    "- javascript-i:                         5749\n",
    "- spring:                               4913\n",
    "- html-css:                             4195\n",
    "- java-iii:                             4108\n",
    "- java-ii:                              3952\n",
    "- java-i:                               3528\n",
    "- javascript-ii:                        3417\n",
    "- mysql:                                3006\n",
    "- jquery:                               2953\n",
    "- spring/fundamentals/repositories:     20 \n",
    "\n",
    "By Data Science Students:\n",
    "- sql/mysql-overview:                           275\n",
    "- classification/overview:                      267\n",
    "- anomaly-detection/overview:                   191\n",
    "- fundamentals/intro-to-data-science:           184\n",
    "- 1-fundamentals/1.1-intro-to-data-science:     127\n",
    "- sql/database-design:                           87\n",
    "- 6-regression/1-overview:                       86\n",
    "- classification/prep:                           77\n",
    "- fundamentals/environment-setup:                76\n",
    "- stats/compare-means:                           73"
   ]
  },
  {
   "cell_type": "markdown",
   "id": "b9c271ba",
   "metadata": {},
   "source": [
    "### 7. Which lessons are least accessed?"
   ]
  },
  {
   "cell_type": "code",
   "execution_count": 78,
   "id": "194c4e89",
   "metadata": {},
   "outputs": [
    {
     "data": {
      "text/plain": [
       "content/examples/php/arithmetic.php     1\n",
       "5.04.04_LeastAngleRegression            1\n",
       "1._Fundamentals/index.html              1\n",
       "javascri                                1\n",
       "f                                       1\n",
       "javascript-i/html-css                   1\n",
       "bad-charts                              1\n",
       "Correlation.md                          1\n",
       "extra-exercises/j                       1\n",
       "html-css/css-ii/boostrap-grid-system    1\n",
       "Name: path, dtype: int64"
      ]
     },
     "execution_count": 78,
     "metadata": {},
     "output_type": "execute_result"
    }
   ],
   "source": [
    "lesson.path.value_counts().tail(10)"
   ]
  },
  {
   "cell_type": "markdown",
   "id": "2e46d612",
   "metadata": {},
   "source": [
    "#### Findings:\n",
    "These are the bottom 10 least accessed lessons:\n",
    "- content/examples/php/arithmetic.php     \n",
    "- 5.04.04_LeastAngleRegression            \n",
    "- 1._Fundamentals/index.html              \n",
    "- javascri                                \n",
    "- f                                       \n",
    "- javascript-i/html-css                   \n",
    "- bad-charts                              \n",
    "- Correlation.md                          \n",
    "- extra-exercises/j                       \n",
    "- html-css/css-ii/boostrap-grid-system    "
   ]
  },
  {
   "cell_type": "code",
   "execution_count": null,
   "id": "9ff92cdb",
   "metadata": {},
   "outputs": [],
   "source": []
  }
 ],
 "metadata": {
  "kernelspec": {
   "display_name": "Python 3",
   "language": "python",
   "name": "python3"
  },
  "language_info": {
   "codemirror_mode": {
    "name": "ipython",
    "version": 3
   },
   "file_extension": ".py",
   "mimetype": "text/x-python",
   "name": "python",
   "nbconvert_exporter": "python",
   "pygments_lexer": "ipython3",
   "version": "3.8.8"
  }
 },
 "nbformat": 4,
 "nbformat_minor": 5
}
